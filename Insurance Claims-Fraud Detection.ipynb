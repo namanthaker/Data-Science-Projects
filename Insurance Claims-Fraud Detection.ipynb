{
 "cells": [
  {
   "cell_type": "markdown",
   "metadata": {},
   "source": [
    "# Insurance Claim - Fraud Detection"
   ]
  },
  {
   "cell_type": "markdown",
   "metadata": {},
   "source": [
    "#### Steps used:\n",
    "    \n",
    "1> Data cleansing and Wrangling\n",
    "2> Define the metrics for which model is getting optimized.\n",
    "3> Feature Engineering\n",
    "4> Data Pre-processing\n",
    "5> Feature Selection\n",
    "6> Split the data into training and test data sets.\n",
    "7> Model Selection\n",
    "8> Model Validation \n",
    "9> Interpret the result\n",
    "10> save Model\n",
    "11> reload model for prediction of test .csv\n",
    "12>do data cleaning for test.csv\n",
    "13> predict Fees"
   ]
  },
  {
   "cell_type": "markdown",
   "metadata": {},
   "source": [
    "# Importing Dataset"
   ]
  },
  {
   "cell_type": "code",
   "execution_count": 1,
   "metadata": {},
   "outputs": [],
   "source": [
    "import numpy as np\n",
    "import pandas as pd\n",
    "import seaborn as sns\n",
    "import matplotlib.pyplot as plt\n",
    "from sklearn.metrics import mean_squared_error\n",
    "from sklearn.model_selection import train_test_split"
   ]
  },
  {
   "cell_type": "code",
   "execution_count": 2,
   "metadata": {},
   "outputs": [],
   "source": [
    "import warnings\n",
    "warnings.filterwarnings('ignore')"
   ]
  },
  {
   "cell_type": "code",
   "execution_count": 3,
   "metadata": {},
   "outputs": [],
   "source": [
    "data = pd.read_csv('Automobile_insurance_fraud.csv')"
   ]
  },
  {
   "cell_type": "code",
   "execution_count": 4,
   "metadata": {},
   "outputs": [
    {
     "data": {
      "text/html": [
       "<div>\n",
       "<style scoped>\n",
       "    .dataframe tbody tr th:only-of-type {\n",
       "        vertical-align: middle;\n",
       "    }\n",
       "\n",
       "    .dataframe tbody tr th {\n",
       "        vertical-align: top;\n",
       "    }\n",
       "\n",
       "    .dataframe thead th {\n",
       "        text-align: right;\n",
       "    }\n",
       "</style>\n",
       "<table border=\"1\" class=\"dataframe\">\n",
       "  <thead>\n",
       "    <tr style=\"text-align: right;\">\n",
       "      <th></th>\n",
       "      <th>months_as_customer</th>\n",
       "      <th>age</th>\n",
       "      <th>policy_number</th>\n",
       "      <th>policy_bind_date</th>\n",
       "      <th>policy_state</th>\n",
       "      <th>policy_csl</th>\n",
       "      <th>policy_deductable</th>\n",
       "      <th>policy_annual_premium</th>\n",
       "      <th>umbrella_limit</th>\n",
       "      <th>insured_zip</th>\n",
       "      <th>...</th>\n",
       "      <th>police_report_available</th>\n",
       "      <th>total_claim_amount</th>\n",
       "      <th>injury_claim</th>\n",
       "      <th>property_claim</th>\n",
       "      <th>vehicle_claim</th>\n",
       "      <th>auto_make</th>\n",
       "      <th>auto_model</th>\n",
       "      <th>auto_year</th>\n",
       "      <th>fraud_reported</th>\n",
       "      <th>_c39</th>\n",
       "    </tr>\n",
       "  </thead>\n",
       "  <tbody>\n",
       "    <tr>\n",
       "      <th>0</th>\n",
       "      <td>328</td>\n",
       "      <td>48</td>\n",
       "      <td>521585</td>\n",
       "      <td>17-10-2014</td>\n",
       "      <td>OH</td>\n",
       "      <td>250/500</td>\n",
       "      <td>1000</td>\n",
       "      <td>1406.91</td>\n",
       "      <td>0</td>\n",
       "      <td>466132</td>\n",
       "      <td>...</td>\n",
       "      <td>YES</td>\n",
       "      <td>71610</td>\n",
       "      <td>6510</td>\n",
       "      <td>13020</td>\n",
       "      <td>52080</td>\n",
       "      <td>Saab</td>\n",
       "      <td>92x</td>\n",
       "      <td>2004</td>\n",
       "      <td>Y</td>\n",
       "      <td>NaN</td>\n",
       "    </tr>\n",
       "    <tr>\n",
       "      <th>1</th>\n",
       "      <td>228</td>\n",
       "      <td>42</td>\n",
       "      <td>342868</td>\n",
       "      <td>27-06-2006</td>\n",
       "      <td>IN</td>\n",
       "      <td>250/500</td>\n",
       "      <td>2000</td>\n",
       "      <td>1197.22</td>\n",
       "      <td>5000000</td>\n",
       "      <td>468176</td>\n",
       "      <td>...</td>\n",
       "      <td>?</td>\n",
       "      <td>5070</td>\n",
       "      <td>780</td>\n",
       "      <td>780</td>\n",
       "      <td>3510</td>\n",
       "      <td>Mercedes</td>\n",
       "      <td>E400</td>\n",
       "      <td>2007</td>\n",
       "      <td>Y</td>\n",
       "      <td>NaN</td>\n",
       "    </tr>\n",
       "    <tr>\n",
       "      <th>2</th>\n",
       "      <td>134</td>\n",
       "      <td>29</td>\n",
       "      <td>687698</td>\n",
       "      <td>06-09-2000</td>\n",
       "      <td>OH</td>\n",
       "      <td>100/300</td>\n",
       "      <td>2000</td>\n",
       "      <td>1413.14</td>\n",
       "      <td>5000000</td>\n",
       "      <td>430632</td>\n",
       "      <td>...</td>\n",
       "      <td>NO</td>\n",
       "      <td>34650</td>\n",
       "      <td>7700</td>\n",
       "      <td>3850</td>\n",
       "      <td>23100</td>\n",
       "      <td>Dodge</td>\n",
       "      <td>RAM</td>\n",
       "      <td>2007</td>\n",
       "      <td>N</td>\n",
       "      <td>NaN</td>\n",
       "    </tr>\n",
       "    <tr>\n",
       "      <th>3</th>\n",
       "      <td>256</td>\n",
       "      <td>41</td>\n",
       "      <td>227811</td>\n",
       "      <td>25-05-1990</td>\n",
       "      <td>IL</td>\n",
       "      <td>250/500</td>\n",
       "      <td>2000</td>\n",
       "      <td>1415.74</td>\n",
       "      <td>6000000</td>\n",
       "      <td>608117</td>\n",
       "      <td>...</td>\n",
       "      <td>NO</td>\n",
       "      <td>63400</td>\n",
       "      <td>6340</td>\n",
       "      <td>6340</td>\n",
       "      <td>50720</td>\n",
       "      <td>Chevrolet</td>\n",
       "      <td>Tahoe</td>\n",
       "      <td>2014</td>\n",
       "      <td>Y</td>\n",
       "      <td>NaN</td>\n",
       "    </tr>\n",
       "    <tr>\n",
       "      <th>4</th>\n",
       "      <td>228</td>\n",
       "      <td>44</td>\n",
       "      <td>367455</td>\n",
       "      <td>06-06-2014</td>\n",
       "      <td>IL</td>\n",
       "      <td>500/1000</td>\n",
       "      <td>1000</td>\n",
       "      <td>1583.91</td>\n",
       "      <td>6000000</td>\n",
       "      <td>610706</td>\n",
       "      <td>...</td>\n",
       "      <td>NO</td>\n",
       "      <td>6500</td>\n",
       "      <td>1300</td>\n",
       "      <td>650</td>\n",
       "      <td>4550</td>\n",
       "      <td>Accura</td>\n",
       "      <td>RSX</td>\n",
       "      <td>2009</td>\n",
       "      <td>N</td>\n",
       "      <td>NaN</td>\n",
       "    </tr>\n",
       "    <tr>\n",
       "      <th>...</th>\n",
       "      <td>...</td>\n",
       "      <td>...</td>\n",
       "      <td>...</td>\n",
       "      <td>...</td>\n",
       "      <td>...</td>\n",
       "      <td>...</td>\n",
       "      <td>...</td>\n",
       "      <td>...</td>\n",
       "      <td>...</td>\n",
       "      <td>...</td>\n",
       "      <td>...</td>\n",
       "      <td>...</td>\n",
       "      <td>...</td>\n",
       "      <td>...</td>\n",
       "      <td>...</td>\n",
       "      <td>...</td>\n",
       "      <td>...</td>\n",
       "      <td>...</td>\n",
       "      <td>...</td>\n",
       "      <td>...</td>\n",
       "      <td>...</td>\n",
       "    </tr>\n",
       "    <tr>\n",
       "      <th>995</th>\n",
       "      <td>3</td>\n",
       "      <td>38</td>\n",
       "      <td>941851</td>\n",
       "      <td>16-07-1991</td>\n",
       "      <td>OH</td>\n",
       "      <td>500/1000</td>\n",
       "      <td>1000</td>\n",
       "      <td>1310.80</td>\n",
       "      <td>0</td>\n",
       "      <td>431289</td>\n",
       "      <td>...</td>\n",
       "      <td>?</td>\n",
       "      <td>87200</td>\n",
       "      <td>17440</td>\n",
       "      <td>8720</td>\n",
       "      <td>61040</td>\n",
       "      <td>Honda</td>\n",
       "      <td>Accord</td>\n",
       "      <td>2006</td>\n",
       "      <td>N</td>\n",
       "      <td>NaN</td>\n",
       "    </tr>\n",
       "    <tr>\n",
       "      <th>996</th>\n",
       "      <td>285</td>\n",
       "      <td>41</td>\n",
       "      <td>186934</td>\n",
       "      <td>05-01-2014</td>\n",
       "      <td>IL</td>\n",
       "      <td>100/300</td>\n",
       "      <td>1000</td>\n",
       "      <td>1436.79</td>\n",
       "      <td>0</td>\n",
       "      <td>608177</td>\n",
       "      <td>...</td>\n",
       "      <td>?</td>\n",
       "      <td>108480</td>\n",
       "      <td>18080</td>\n",
       "      <td>18080</td>\n",
       "      <td>72320</td>\n",
       "      <td>Volkswagen</td>\n",
       "      <td>Passat</td>\n",
       "      <td>2015</td>\n",
       "      <td>N</td>\n",
       "      <td>NaN</td>\n",
       "    </tr>\n",
       "    <tr>\n",
       "      <th>997</th>\n",
       "      <td>130</td>\n",
       "      <td>34</td>\n",
       "      <td>918516</td>\n",
       "      <td>17-02-2003</td>\n",
       "      <td>OH</td>\n",
       "      <td>250/500</td>\n",
       "      <td>500</td>\n",
       "      <td>1383.49</td>\n",
       "      <td>3000000</td>\n",
       "      <td>442797</td>\n",
       "      <td>...</td>\n",
       "      <td>YES</td>\n",
       "      <td>67500</td>\n",
       "      <td>7500</td>\n",
       "      <td>7500</td>\n",
       "      <td>52500</td>\n",
       "      <td>Suburu</td>\n",
       "      <td>Impreza</td>\n",
       "      <td>1996</td>\n",
       "      <td>N</td>\n",
       "      <td>NaN</td>\n",
       "    </tr>\n",
       "    <tr>\n",
       "      <th>998</th>\n",
       "      <td>458</td>\n",
       "      <td>62</td>\n",
       "      <td>533940</td>\n",
       "      <td>18-11-2011</td>\n",
       "      <td>IL</td>\n",
       "      <td>500/1000</td>\n",
       "      <td>2000</td>\n",
       "      <td>1356.92</td>\n",
       "      <td>5000000</td>\n",
       "      <td>441714</td>\n",
       "      <td>...</td>\n",
       "      <td>YES</td>\n",
       "      <td>46980</td>\n",
       "      <td>5220</td>\n",
       "      <td>5220</td>\n",
       "      <td>36540</td>\n",
       "      <td>Audi</td>\n",
       "      <td>A5</td>\n",
       "      <td>1998</td>\n",
       "      <td>N</td>\n",
       "      <td>NaN</td>\n",
       "    </tr>\n",
       "    <tr>\n",
       "      <th>999</th>\n",
       "      <td>456</td>\n",
       "      <td>60</td>\n",
       "      <td>556080</td>\n",
       "      <td>11-11-1996</td>\n",
       "      <td>OH</td>\n",
       "      <td>250/500</td>\n",
       "      <td>1000</td>\n",
       "      <td>766.19</td>\n",
       "      <td>0</td>\n",
       "      <td>612260</td>\n",
       "      <td>...</td>\n",
       "      <td>?</td>\n",
       "      <td>5060</td>\n",
       "      <td>460</td>\n",
       "      <td>920</td>\n",
       "      <td>3680</td>\n",
       "      <td>Mercedes</td>\n",
       "      <td>E400</td>\n",
       "      <td>2007</td>\n",
       "      <td>N</td>\n",
       "      <td>NaN</td>\n",
       "    </tr>\n",
       "  </tbody>\n",
       "</table>\n",
       "<p>1000 rows × 40 columns</p>\n",
       "</div>"
      ],
      "text/plain": [
       "     months_as_customer  age  policy_number policy_bind_date policy_state  \\\n",
       "0                   328   48         521585       17-10-2014           OH   \n",
       "1                   228   42         342868       27-06-2006           IN   \n",
       "2                   134   29         687698       06-09-2000           OH   \n",
       "3                   256   41         227811       25-05-1990           IL   \n",
       "4                   228   44         367455       06-06-2014           IL   \n",
       "..                  ...  ...            ...              ...          ...   \n",
       "995                   3   38         941851       16-07-1991           OH   \n",
       "996                 285   41         186934       05-01-2014           IL   \n",
       "997                 130   34         918516       17-02-2003           OH   \n",
       "998                 458   62         533940       18-11-2011           IL   \n",
       "999                 456   60         556080       11-11-1996           OH   \n",
       "\n",
       "    policy_csl  policy_deductable  policy_annual_premium  umbrella_limit  \\\n",
       "0      250/500               1000                1406.91               0   \n",
       "1      250/500               2000                1197.22         5000000   \n",
       "2      100/300               2000                1413.14         5000000   \n",
       "3      250/500               2000                1415.74         6000000   \n",
       "4     500/1000               1000                1583.91         6000000   \n",
       "..         ...                ...                    ...             ...   \n",
       "995   500/1000               1000                1310.80               0   \n",
       "996    100/300               1000                1436.79               0   \n",
       "997    250/500                500                1383.49         3000000   \n",
       "998   500/1000               2000                1356.92         5000000   \n",
       "999    250/500               1000                 766.19               0   \n",
       "\n",
       "     insured_zip  ... police_report_available total_claim_amount injury_claim  \\\n",
       "0         466132  ...                     YES              71610         6510   \n",
       "1         468176  ...                       ?               5070          780   \n",
       "2         430632  ...                      NO              34650         7700   \n",
       "3         608117  ...                      NO              63400         6340   \n",
       "4         610706  ...                      NO               6500         1300   \n",
       "..           ...  ...                     ...                ...          ...   \n",
       "995       431289  ...                       ?              87200        17440   \n",
       "996       608177  ...                       ?             108480        18080   \n",
       "997       442797  ...                     YES              67500         7500   \n",
       "998       441714  ...                     YES              46980         5220   \n",
       "999       612260  ...                       ?               5060          460   \n",
       "\n",
       "    property_claim vehicle_claim   auto_make  auto_model auto_year  \\\n",
       "0            13020         52080        Saab         92x      2004   \n",
       "1              780          3510    Mercedes        E400      2007   \n",
       "2             3850         23100       Dodge         RAM      2007   \n",
       "3             6340         50720   Chevrolet       Tahoe      2014   \n",
       "4              650          4550      Accura         RSX      2009   \n",
       "..             ...           ...         ...         ...       ...   \n",
       "995           8720         61040       Honda      Accord      2006   \n",
       "996          18080         72320  Volkswagen      Passat      2015   \n",
       "997           7500         52500      Suburu     Impreza      1996   \n",
       "998           5220         36540        Audi          A5      1998   \n",
       "999            920          3680    Mercedes        E400      2007   \n",
       "\n",
       "    fraud_reported _c39  \n",
       "0                Y  NaN  \n",
       "1                Y  NaN  \n",
       "2                N  NaN  \n",
       "3                Y  NaN  \n",
       "4                N  NaN  \n",
       "..             ...  ...  \n",
       "995              N  NaN  \n",
       "996              N  NaN  \n",
       "997              N  NaN  \n",
       "998              N  NaN  \n",
       "999              N  NaN  \n",
       "\n",
       "[1000 rows x 40 columns]"
      ]
     },
     "execution_count": 4,
     "metadata": {},
     "output_type": "execute_result"
    }
   ],
   "source": [
    "data"
   ]
  },
  {
   "cell_type": "code",
   "execution_count": 5,
   "metadata": {},
   "outputs": [
    {
     "data": {
      "text/html": [
       "<div>\n",
       "<style scoped>\n",
       "    .dataframe tbody tr th:only-of-type {\n",
       "        vertical-align: middle;\n",
       "    }\n",
       "\n",
       "    .dataframe tbody tr th {\n",
       "        vertical-align: top;\n",
       "    }\n",
       "\n",
       "    .dataframe thead th {\n",
       "        text-align: right;\n",
       "    }\n",
       "</style>\n",
       "<table border=\"1\" class=\"dataframe\">\n",
       "  <thead>\n",
       "    <tr style=\"text-align: right;\">\n",
       "      <th></th>\n",
       "      <th>months_as_customer</th>\n",
       "      <th>age</th>\n",
       "      <th>policy_number</th>\n",
       "      <th>policy_deductable</th>\n",
       "      <th>policy_annual_premium</th>\n",
       "      <th>umbrella_limit</th>\n",
       "      <th>insured_zip</th>\n",
       "      <th>capital-gains</th>\n",
       "      <th>capital-loss</th>\n",
       "      <th>incident_hour_of_the_day</th>\n",
       "      <th>number_of_vehicles_involved</th>\n",
       "      <th>bodily_injuries</th>\n",
       "      <th>witnesses</th>\n",
       "      <th>total_claim_amount</th>\n",
       "      <th>injury_claim</th>\n",
       "      <th>property_claim</th>\n",
       "      <th>vehicle_claim</th>\n",
       "      <th>auto_year</th>\n",
       "      <th>_c39</th>\n",
       "    </tr>\n",
       "  </thead>\n",
       "  <tbody>\n",
       "    <tr>\n",
       "      <th>count</th>\n",
       "      <td>1000.000000</td>\n",
       "      <td>1000.000000</td>\n",
       "      <td>1000.000000</td>\n",
       "      <td>1000.000000</td>\n",
       "      <td>1000.000000</td>\n",
       "      <td>1.000000e+03</td>\n",
       "      <td>1000.000000</td>\n",
       "      <td>1000.000000</td>\n",
       "      <td>1000.000000</td>\n",
       "      <td>1000.000000</td>\n",
       "      <td>1000.00000</td>\n",
       "      <td>1000.000000</td>\n",
       "      <td>1000.000000</td>\n",
       "      <td>1000.00000</td>\n",
       "      <td>1000.000000</td>\n",
       "      <td>1000.000000</td>\n",
       "      <td>1000.000000</td>\n",
       "      <td>1000.000000</td>\n",
       "      <td>0.0</td>\n",
       "    </tr>\n",
       "    <tr>\n",
       "      <th>mean</th>\n",
       "      <td>203.954000</td>\n",
       "      <td>38.948000</td>\n",
       "      <td>546238.648000</td>\n",
       "      <td>1136.000000</td>\n",
       "      <td>1256.406150</td>\n",
       "      <td>1.101000e+06</td>\n",
       "      <td>501214.488000</td>\n",
       "      <td>25126.100000</td>\n",
       "      <td>-26793.700000</td>\n",
       "      <td>11.644000</td>\n",
       "      <td>1.83900</td>\n",
       "      <td>0.992000</td>\n",
       "      <td>1.487000</td>\n",
       "      <td>52761.94000</td>\n",
       "      <td>7433.420000</td>\n",
       "      <td>7399.570000</td>\n",
       "      <td>37928.950000</td>\n",
       "      <td>2005.103000</td>\n",
       "      <td>NaN</td>\n",
       "    </tr>\n",
       "    <tr>\n",
       "      <th>std</th>\n",
       "      <td>115.113174</td>\n",
       "      <td>9.140287</td>\n",
       "      <td>257063.005276</td>\n",
       "      <td>611.864673</td>\n",
       "      <td>244.167395</td>\n",
       "      <td>2.297407e+06</td>\n",
       "      <td>71701.610941</td>\n",
       "      <td>27872.187708</td>\n",
       "      <td>28104.096686</td>\n",
       "      <td>6.951373</td>\n",
       "      <td>1.01888</td>\n",
       "      <td>0.820127</td>\n",
       "      <td>1.111335</td>\n",
       "      <td>26401.53319</td>\n",
       "      <td>4880.951853</td>\n",
       "      <td>4824.726179</td>\n",
       "      <td>18886.252893</td>\n",
       "      <td>6.015861</td>\n",
       "      <td>NaN</td>\n",
       "    </tr>\n",
       "    <tr>\n",
       "      <th>min</th>\n",
       "      <td>0.000000</td>\n",
       "      <td>19.000000</td>\n",
       "      <td>100804.000000</td>\n",
       "      <td>500.000000</td>\n",
       "      <td>433.330000</td>\n",
       "      <td>-1.000000e+06</td>\n",
       "      <td>430104.000000</td>\n",
       "      <td>0.000000</td>\n",
       "      <td>-111100.000000</td>\n",
       "      <td>0.000000</td>\n",
       "      <td>1.00000</td>\n",
       "      <td>0.000000</td>\n",
       "      <td>0.000000</td>\n",
       "      <td>100.00000</td>\n",
       "      <td>0.000000</td>\n",
       "      <td>0.000000</td>\n",
       "      <td>70.000000</td>\n",
       "      <td>1995.000000</td>\n",
       "      <td>NaN</td>\n",
       "    </tr>\n",
       "    <tr>\n",
       "      <th>25%</th>\n",
       "      <td>115.750000</td>\n",
       "      <td>32.000000</td>\n",
       "      <td>335980.250000</td>\n",
       "      <td>500.000000</td>\n",
       "      <td>1089.607500</td>\n",
       "      <td>0.000000e+00</td>\n",
       "      <td>448404.500000</td>\n",
       "      <td>0.000000</td>\n",
       "      <td>-51500.000000</td>\n",
       "      <td>6.000000</td>\n",
       "      <td>1.00000</td>\n",
       "      <td>0.000000</td>\n",
       "      <td>1.000000</td>\n",
       "      <td>41812.50000</td>\n",
       "      <td>4295.000000</td>\n",
       "      <td>4445.000000</td>\n",
       "      <td>30292.500000</td>\n",
       "      <td>2000.000000</td>\n",
       "      <td>NaN</td>\n",
       "    </tr>\n",
       "    <tr>\n",
       "      <th>50%</th>\n",
       "      <td>199.500000</td>\n",
       "      <td>38.000000</td>\n",
       "      <td>533135.000000</td>\n",
       "      <td>1000.000000</td>\n",
       "      <td>1257.200000</td>\n",
       "      <td>0.000000e+00</td>\n",
       "      <td>466445.500000</td>\n",
       "      <td>0.000000</td>\n",
       "      <td>-23250.000000</td>\n",
       "      <td>12.000000</td>\n",
       "      <td>1.00000</td>\n",
       "      <td>1.000000</td>\n",
       "      <td>1.000000</td>\n",
       "      <td>58055.00000</td>\n",
       "      <td>6775.000000</td>\n",
       "      <td>6750.000000</td>\n",
       "      <td>42100.000000</td>\n",
       "      <td>2005.000000</td>\n",
       "      <td>NaN</td>\n",
       "    </tr>\n",
       "    <tr>\n",
       "      <th>75%</th>\n",
       "      <td>276.250000</td>\n",
       "      <td>44.000000</td>\n",
       "      <td>759099.750000</td>\n",
       "      <td>2000.000000</td>\n",
       "      <td>1415.695000</td>\n",
       "      <td>0.000000e+00</td>\n",
       "      <td>603251.000000</td>\n",
       "      <td>51025.000000</td>\n",
       "      <td>0.000000</td>\n",
       "      <td>17.000000</td>\n",
       "      <td>3.00000</td>\n",
       "      <td>2.000000</td>\n",
       "      <td>2.000000</td>\n",
       "      <td>70592.50000</td>\n",
       "      <td>11305.000000</td>\n",
       "      <td>10885.000000</td>\n",
       "      <td>50822.500000</td>\n",
       "      <td>2010.000000</td>\n",
       "      <td>NaN</td>\n",
       "    </tr>\n",
       "    <tr>\n",
       "      <th>max</th>\n",
       "      <td>479.000000</td>\n",
       "      <td>64.000000</td>\n",
       "      <td>999435.000000</td>\n",
       "      <td>2000.000000</td>\n",
       "      <td>2047.590000</td>\n",
       "      <td>1.000000e+07</td>\n",
       "      <td>620962.000000</td>\n",
       "      <td>100500.000000</td>\n",
       "      <td>0.000000</td>\n",
       "      <td>23.000000</td>\n",
       "      <td>4.00000</td>\n",
       "      <td>2.000000</td>\n",
       "      <td>3.000000</td>\n",
       "      <td>114920.00000</td>\n",
       "      <td>21450.000000</td>\n",
       "      <td>23670.000000</td>\n",
       "      <td>79560.000000</td>\n",
       "      <td>2015.000000</td>\n",
       "      <td>NaN</td>\n",
       "    </tr>\n",
       "  </tbody>\n",
       "</table>\n",
       "</div>"
      ],
      "text/plain": [
       "       months_as_customer          age  policy_number  policy_deductable  \\\n",
       "count         1000.000000  1000.000000    1000.000000        1000.000000   \n",
       "mean           203.954000    38.948000  546238.648000        1136.000000   \n",
       "std            115.113174     9.140287  257063.005276         611.864673   \n",
       "min              0.000000    19.000000  100804.000000         500.000000   \n",
       "25%            115.750000    32.000000  335980.250000         500.000000   \n",
       "50%            199.500000    38.000000  533135.000000        1000.000000   \n",
       "75%            276.250000    44.000000  759099.750000        2000.000000   \n",
       "max            479.000000    64.000000  999435.000000        2000.000000   \n",
       "\n",
       "       policy_annual_premium  umbrella_limit    insured_zip  capital-gains  \\\n",
       "count            1000.000000    1.000000e+03    1000.000000    1000.000000   \n",
       "mean             1256.406150    1.101000e+06  501214.488000   25126.100000   \n",
       "std               244.167395    2.297407e+06   71701.610941   27872.187708   \n",
       "min               433.330000   -1.000000e+06  430104.000000       0.000000   \n",
       "25%              1089.607500    0.000000e+00  448404.500000       0.000000   \n",
       "50%              1257.200000    0.000000e+00  466445.500000       0.000000   \n",
       "75%              1415.695000    0.000000e+00  603251.000000   51025.000000   \n",
       "max              2047.590000    1.000000e+07  620962.000000  100500.000000   \n",
       "\n",
       "        capital-loss  incident_hour_of_the_day  number_of_vehicles_involved  \\\n",
       "count    1000.000000               1000.000000                   1000.00000   \n",
       "mean   -26793.700000                 11.644000                      1.83900   \n",
       "std     28104.096686                  6.951373                      1.01888   \n",
       "min   -111100.000000                  0.000000                      1.00000   \n",
       "25%    -51500.000000                  6.000000                      1.00000   \n",
       "50%    -23250.000000                 12.000000                      1.00000   \n",
       "75%         0.000000                 17.000000                      3.00000   \n",
       "max         0.000000                 23.000000                      4.00000   \n",
       "\n",
       "       bodily_injuries    witnesses  total_claim_amount  injury_claim  \\\n",
       "count      1000.000000  1000.000000          1000.00000   1000.000000   \n",
       "mean          0.992000     1.487000         52761.94000   7433.420000   \n",
       "std           0.820127     1.111335         26401.53319   4880.951853   \n",
       "min           0.000000     0.000000           100.00000      0.000000   \n",
       "25%           0.000000     1.000000         41812.50000   4295.000000   \n",
       "50%           1.000000     1.000000         58055.00000   6775.000000   \n",
       "75%           2.000000     2.000000         70592.50000  11305.000000   \n",
       "max           2.000000     3.000000        114920.00000  21450.000000   \n",
       "\n",
       "       property_claim  vehicle_claim    auto_year  _c39  \n",
       "count     1000.000000    1000.000000  1000.000000   0.0  \n",
       "mean      7399.570000   37928.950000  2005.103000   NaN  \n",
       "std       4824.726179   18886.252893     6.015861   NaN  \n",
       "min          0.000000      70.000000  1995.000000   NaN  \n",
       "25%       4445.000000   30292.500000  2000.000000   NaN  \n",
       "50%       6750.000000   42100.000000  2005.000000   NaN  \n",
       "75%      10885.000000   50822.500000  2010.000000   NaN  \n",
       "max      23670.000000   79560.000000  2015.000000   NaN  "
      ]
     },
     "execution_count": 5,
     "metadata": {},
     "output_type": "execute_result"
    }
   ],
   "source": [
    "data.describe()"
   ]
  },
  {
   "cell_type": "code",
   "execution_count": 6,
   "metadata": {},
   "outputs": [
    {
     "data": {
      "text/plain": [
       "(1000, 40)"
      ]
     },
     "execution_count": 6,
     "metadata": {},
     "output_type": "execute_result"
    }
   ],
   "source": [
    "data.shape"
   ]
  },
  {
   "cell_type": "code",
   "execution_count": 7,
   "metadata": {},
   "outputs": [
    {
     "data": {
      "text/plain": [
       "months_as_customer               int64\n",
       "age                              int64\n",
       "policy_number                    int64\n",
       "policy_bind_date                object\n",
       "policy_state                    object\n",
       "policy_csl                      object\n",
       "policy_deductable                int64\n",
       "policy_annual_premium          float64\n",
       "umbrella_limit                   int64\n",
       "insured_zip                      int64\n",
       "insured_sex                     object\n",
       "insured_education_level         object\n",
       "insured_occupation              object\n",
       "insured_hobbies                 object\n",
       "insured_relationship            object\n",
       "capital-gains                    int64\n",
       "capital-loss                     int64\n",
       "incident_date                   object\n",
       "incident_type                   object\n",
       "collision_type                  object\n",
       "incident_severity               object\n",
       "authorities_contacted           object\n",
       "incident_state                  object\n",
       "incident_city                   object\n",
       "incident_location               object\n",
       "incident_hour_of_the_day         int64\n",
       "number_of_vehicles_involved      int64\n",
       "property_damage                 object\n",
       "bodily_injuries                  int64\n",
       "witnesses                        int64\n",
       "police_report_available         object\n",
       "total_claim_amount               int64\n",
       "injury_claim                     int64\n",
       "property_claim                   int64\n",
       "vehicle_claim                    int64\n",
       "auto_make                       object\n",
       "auto_model                      object\n",
       "auto_year                        int64\n",
       "fraud_reported                  object\n",
       "_c39                           float64\n",
       "dtype: object"
      ]
     },
     "execution_count": 7,
     "metadata": {},
     "output_type": "execute_result"
    }
   ],
   "source": [
    "data.dtypes"
   ]
  },
  {
   "cell_type": "code",
   "execution_count": 8,
   "metadata": {},
   "outputs": [
    {
     "data": {
      "text/plain": [
       "Index(['months_as_customer', 'age', 'policy_number', 'policy_bind_date',\n",
       "       'policy_state', 'policy_csl', 'policy_deductable',\n",
       "       'policy_annual_premium', 'umbrella_limit', 'insured_zip', 'insured_sex',\n",
       "       'insured_education_level', 'insured_occupation', 'insured_hobbies',\n",
       "       'insured_relationship', 'capital-gains', 'capital-loss',\n",
       "       'incident_date', 'incident_type', 'collision_type', 'incident_severity',\n",
       "       'authorities_contacted', 'incident_state', 'incident_city',\n",
       "       'incident_location', 'incident_hour_of_the_day',\n",
       "       'number_of_vehicles_involved', 'property_damage', 'bodily_injuries',\n",
       "       'witnesses', 'police_report_available', 'total_claim_amount',\n",
       "       'injury_claim', 'property_claim', 'vehicle_claim', 'auto_make',\n",
       "       'auto_model', 'auto_year', 'fraud_reported', '_c39'],\n",
       "      dtype='object')"
      ]
     },
     "execution_count": 8,
     "metadata": {},
     "output_type": "execute_result"
    }
   ],
   "source": [
    "data.columns"
   ]
  },
  {
   "cell_type": "code",
   "execution_count": 9,
   "metadata": {},
   "outputs": [
    {
     "name": "stdout",
     "output_type": "stream",
     "text": [
      "Number of Categories: \n",
      "months_as_customer = 391\n",
      "age = 46\n",
      "policy_number = 1000\n",
      "policy_bind_date = 951\n",
      "policy_state = 3\n",
      "policy_csl = 3\n",
      "policy_deductable = 3\n",
      "policy_annual_premium = 991\n",
      "umbrella_limit = 11\n",
      "insured_zip = 995\n",
      "insured_sex = 2\n",
      "insured_education_level = 7\n",
      "insured_occupation = 14\n",
      "insured_hobbies = 20\n",
      "insured_relationship = 6\n",
      "capital-gains = 338\n",
      "capital-loss = 354\n",
      "incident_date = 60\n",
      "incident_type = 4\n",
      "collision_type = 4\n",
      "incident_severity = 4\n",
      "authorities_contacted = 5\n",
      "incident_state = 7\n",
      "incident_city = 7\n",
      "incident_location = 1000\n",
      "incident_hour_of_the_day = 24\n",
      "number_of_vehicles_involved = 4\n",
      "property_damage = 3\n",
      "bodily_injuries = 3\n",
      "witnesses = 4\n",
      "police_report_available = 3\n",
      "total_claim_amount = 763\n",
      "injury_claim = 638\n",
      "property_claim = 626\n",
      "vehicle_claim = 726\n",
      "auto_make = 14\n",
      "auto_model = 39\n",
      "auto_year = 21\n",
      "fraud_reported = 2\n",
      "_c39 = 1\n"
     ]
    }
   ],
   "source": [
    "print(\"Number of Categories: \")\n",
    "for ColName in data[['months_as_customer', 'age', 'policy_number', 'policy_bind_date',\n",
    "       'policy_state', 'policy_csl', 'policy_deductable',\n",
    "       'policy_annual_premium', 'umbrella_limit', 'insured_zip', 'insured_sex',\n",
    "       'insured_education_level', 'insured_occupation', 'insured_hobbies',\n",
    "       'insured_relationship', 'capital-gains', 'capital-loss',\n",
    "       'incident_date', 'incident_type', 'collision_type', 'incident_severity',\n",
    "       'authorities_contacted', 'incident_state', 'incident_city',\n",
    "       'incident_location', 'incident_hour_of_the_day',\n",
    "       'number_of_vehicles_involved', 'property_damage', 'bodily_injuries',\n",
    "       'witnesses', 'police_report_available', 'total_claim_amount',\n",
    "       'injury_claim', 'property_claim', 'vehicle_claim', 'auto_make',\n",
    "       'auto_model', 'auto_year', 'fraud_reported', '_c39']]:\n",
    "    print(\"{} = {}\".format(ColName,len(data[ColName].unique())))"
   ]
  },
  {
   "cell_type": "markdown",
   "metadata": {},
   "source": [
    "Observation: This represents number of categories of particular type of data.\n",
    "    As, fraud_reported which is going to be target variable is having 2 types of data so one will be using Logistic Regressio"
   ]
  },
  {
   "cell_type": "markdown",
   "metadata": {},
   "source": [
    "## Logistic Regression Kind of technique need to resolve this problem"
   ]
  },
  {
   "cell_type": "markdown",
   "metadata": {},
   "source": [
    "# EDA Process"
   ]
  },
  {
   "cell_type": "code",
   "execution_count": 10,
   "metadata": {},
   "outputs": [
    {
     "data": {
      "text/html": [
       "<div>\n",
       "<style scoped>\n",
       "    .dataframe tbody tr th:only-of-type {\n",
       "        vertical-align: middle;\n",
       "    }\n",
       "\n",
       "    .dataframe tbody tr th {\n",
       "        vertical-align: top;\n",
       "    }\n",
       "\n",
       "    .dataframe thead th {\n",
       "        text-align: right;\n",
       "    }\n",
       "</style>\n",
       "<table border=\"1\" class=\"dataframe\">\n",
       "  <thead>\n",
       "    <tr style=\"text-align: right;\">\n",
       "      <th></th>\n",
       "      <th>months_as_customer</th>\n",
       "      <th>age</th>\n",
       "      <th>policy_number</th>\n",
       "      <th>policy_deductable</th>\n",
       "      <th>policy_annual_premium</th>\n",
       "      <th>umbrella_limit</th>\n",
       "      <th>insured_zip</th>\n",
       "      <th>capital-gains</th>\n",
       "      <th>capital-loss</th>\n",
       "      <th>incident_hour_of_the_day</th>\n",
       "      <th>number_of_vehicles_involved</th>\n",
       "      <th>bodily_injuries</th>\n",
       "      <th>witnesses</th>\n",
       "      <th>total_claim_amount</th>\n",
       "      <th>injury_claim</th>\n",
       "      <th>property_claim</th>\n",
       "      <th>vehicle_claim</th>\n",
       "      <th>auto_year</th>\n",
       "      <th>_c39</th>\n",
       "    </tr>\n",
       "  </thead>\n",
       "  <tbody>\n",
       "    <tr>\n",
       "      <th>count</th>\n",
       "      <td>1000.000000</td>\n",
       "      <td>1000.000000</td>\n",
       "      <td>1000.000000</td>\n",
       "      <td>1000.000000</td>\n",
       "      <td>1000.000000</td>\n",
       "      <td>1.000000e+03</td>\n",
       "      <td>1000.000000</td>\n",
       "      <td>1000.000000</td>\n",
       "      <td>1000.000000</td>\n",
       "      <td>1000.000000</td>\n",
       "      <td>1000.00000</td>\n",
       "      <td>1000.000000</td>\n",
       "      <td>1000.000000</td>\n",
       "      <td>1000.00000</td>\n",
       "      <td>1000.000000</td>\n",
       "      <td>1000.000000</td>\n",
       "      <td>1000.000000</td>\n",
       "      <td>1000.000000</td>\n",
       "      <td>0.0</td>\n",
       "    </tr>\n",
       "    <tr>\n",
       "      <th>mean</th>\n",
       "      <td>203.954000</td>\n",
       "      <td>38.948000</td>\n",
       "      <td>546238.648000</td>\n",
       "      <td>1136.000000</td>\n",
       "      <td>1256.406150</td>\n",
       "      <td>1.101000e+06</td>\n",
       "      <td>501214.488000</td>\n",
       "      <td>25126.100000</td>\n",
       "      <td>-26793.700000</td>\n",
       "      <td>11.644000</td>\n",
       "      <td>1.83900</td>\n",
       "      <td>0.992000</td>\n",
       "      <td>1.487000</td>\n",
       "      <td>52761.94000</td>\n",
       "      <td>7433.420000</td>\n",
       "      <td>7399.570000</td>\n",
       "      <td>37928.950000</td>\n",
       "      <td>2005.103000</td>\n",
       "      <td>NaN</td>\n",
       "    </tr>\n",
       "    <tr>\n",
       "      <th>std</th>\n",
       "      <td>115.113174</td>\n",
       "      <td>9.140287</td>\n",
       "      <td>257063.005276</td>\n",
       "      <td>611.864673</td>\n",
       "      <td>244.167395</td>\n",
       "      <td>2.297407e+06</td>\n",
       "      <td>71701.610941</td>\n",
       "      <td>27872.187708</td>\n",
       "      <td>28104.096686</td>\n",
       "      <td>6.951373</td>\n",
       "      <td>1.01888</td>\n",
       "      <td>0.820127</td>\n",
       "      <td>1.111335</td>\n",
       "      <td>26401.53319</td>\n",
       "      <td>4880.951853</td>\n",
       "      <td>4824.726179</td>\n",
       "      <td>18886.252893</td>\n",
       "      <td>6.015861</td>\n",
       "      <td>NaN</td>\n",
       "    </tr>\n",
       "    <tr>\n",
       "      <th>min</th>\n",
       "      <td>0.000000</td>\n",
       "      <td>19.000000</td>\n",
       "      <td>100804.000000</td>\n",
       "      <td>500.000000</td>\n",
       "      <td>433.330000</td>\n",
       "      <td>-1.000000e+06</td>\n",
       "      <td>430104.000000</td>\n",
       "      <td>0.000000</td>\n",
       "      <td>-111100.000000</td>\n",
       "      <td>0.000000</td>\n",
       "      <td>1.00000</td>\n",
       "      <td>0.000000</td>\n",
       "      <td>0.000000</td>\n",
       "      <td>100.00000</td>\n",
       "      <td>0.000000</td>\n",
       "      <td>0.000000</td>\n",
       "      <td>70.000000</td>\n",
       "      <td>1995.000000</td>\n",
       "      <td>NaN</td>\n",
       "    </tr>\n",
       "    <tr>\n",
       "      <th>25%</th>\n",
       "      <td>115.750000</td>\n",
       "      <td>32.000000</td>\n",
       "      <td>335980.250000</td>\n",
       "      <td>500.000000</td>\n",
       "      <td>1089.607500</td>\n",
       "      <td>0.000000e+00</td>\n",
       "      <td>448404.500000</td>\n",
       "      <td>0.000000</td>\n",
       "      <td>-51500.000000</td>\n",
       "      <td>6.000000</td>\n",
       "      <td>1.00000</td>\n",
       "      <td>0.000000</td>\n",
       "      <td>1.000000</td>\n",
       "      <td>41812.50000</td>\n",
       "      <td>4295.000000</td>\n",
       "      <td>4445.000000</td>\n",
       "      <td>30292.500000</td>\n",
       "      <td>2000.000000</td>\n",
       "      <td>NaN</td>\n",
       "    </tr>\n",
       "    <tr>\n",
       "      <th>50%</th>\n",
       "      <td>199.500000</td>\n",
       "      <td>38.000000</td>\n",
       "      <td>533135.000000</td>\n",
       "      <td>1000.000000</td>\n",
       "      <td>1257.200000</td>\n",
       "      <td>0.000000e+00</td>\n",
       "      <td>466445.500000</td>\n",
       "      <td>0.000000</td>\n",
       "      <td>-23250.000000</td>\n",
       "      <td>12.000000</td>\n",
       "      <td>1.00000</td>\n",
       "      <td>1.000000</td>\n",
       "      <td>1.000000</td>\n",
       "      <td>58055.00000</td>\n",
       "      <td>6775.000000</td>\n",
       "      <td>6750.000000</td>\n",
       "      <td>42100.000000</td>\n",
       "      <td>2005.000000</td>\n",
       "      <td>NaN</td>\n",
       "    </tr>\n",
       "    <tr>\n",
       "      <th>75%</th>\n",
       "      <td>276.250000</td>\n",
       "      <td>44.000000</td>\n",
       "      <td>759099.750000</td>\n",
       "      <td>2000.000000</td>\n",
       "      <td>1415.695000</td>\n",
       "      <td>0.000000e+00</td>\n",
       "      <td>603251.000000</td>\n",
       "      <td>51025.000000</td>\n",
       "      <td>0.000000</td>\n",
       "      <td>17.000000</td>\n",
       "      <td>3.00000</td>\n",
       "      <td>2.000000</td>\n",
       "      <td>2.000000</td>\n",
       "      <td>70592.50000</td>\n",
       "      <td>11305.000000</td>\n",
       "      <td>10885.000000</td>\n",
       "      <td>50822.500000</td>\n",
       "      <td>2010.000000</td>\n",
       "      <td>NaN</td>\n",
       "    </tr>\n",
       "    <tr>\n",
       "      <th>max</th>\n",
       "      <td>479.000000</td>\n",
       "      <td>64.000000</td>\n",
       "      <td>999435.000000</td>\n",
       "      <td>2000.000000</td>\n",
       "      <td>2047.590000</td>\n",
       "      <td>1.000000e+07</td>\n",
       "      <td>620962.000000</td>\n",
       "      <td>100500.000000</td>\n",
       "      <td>0.000000</td>\n",
       "      <td>23.000000</td>\n",
       "      <td>4.00000</td>\n",
       "      <td>2.000000</td>\n",
       "      <td>3.000000</td>\n",
       "      <td>114920.00000</td>\n",
       "      <td>21450.000000</td>\n",
       "      <td>23670.000000</td>\n",
       "      <td>79560.000000</td>\n",
       "      <td>2015.000000</td>\n",
       "      <td>NaN</td>\n",
       "    </tr>\n",
       "  </tbody>\n",
       "</table>\n",
       "</div>"
      ],
      "text/plain": [
       "       months_as_customer          age  policy_number  policy_deductable  \\\n",
       "count         1000.000000  1000.000000    1000.000000        1000.000000   \n",
       "mean           203.954000    38.948000  546238.648000        1136.000000   \n",
       "std            115.113174     9.140287  257063.005276         611.864673   \n",
       "min              0.000000    19.000000  100804.000000         500.000000   \n",
       "25%            115.750000    32.000000  335980.250000         500.000000   \n",
       "50%            199.500000    38.000000  533135.000000        1000.000000   \n",
       "75%            276.250000    44.000000  759099.750000        2000.000000   \n",
       "max            479.000000    64.000000  999435.000000        2000.000000   \n",
       "\n",
       "       policy_annual_premium  umbrella_limit    insured_zip  capital-gains  \\\n",
       "count            1000.000000    1.000000e+03    1000.000000    1000.000000   \n",
       "mean             1256.406150    1.101000e+06  501214.488000   25126.100000   \n",
       "std               244.167395    2.297407e+06   71701.610941   27872.187708   \n",
       "min               433.330000   -1.000000e+06  430104.000000       0.000000   \n",
       "25%              1089.607500    0.000000e+00  448404.500000       0.000000   \n",
       "50%              1257.200000    0.000000e+00  466445.500000       0.000000   \n",
       "75%              1415.695000    0.000000e+00  603251.000000   51025.000000   \n",
       "max              2047.590000    1.000000e+07  620962.000000  100500.000000   \n",
       "\n",
       "        capital-loss  incident_hour_of_the_day  number_of_vehicles_involved  \\\n",
       "count    1000.000000               1000.000000                   1000.00000   \n",
       "mean   -26793.700000                 11.644000                      1.83900   \n",
       "std     28104.096686                  6.951373                      1.01888   \n",
       "min   -111100.000000                  0.000000                      1.00000   \n",
       "25%    -51500.000000                  6.000000                      1.00000   \n",
       "50%    -23250.000000                 12.000000                      1.00000   \n",
       "75%         0.000000                 17.000000                      3.00000   \n",
       "max         0.000000                 23.000000                      4.00000   \n",
       "\n",
       "       bodily_injuries    witnesses  total_claim_amount  injury_claim  \\\n",
       "count      1000.000000  1000.000000          1000.00000   1000.000000   \n",
       "mean          0.992000     1.487000         52761.94000   7433.420000   \n",
       "std           0.820127     1.111335         26401.53319   4880.951853   \n",
       "min           0.000000     0.000000           100.00000      0.000000   \n",
       "25%           0.000000     1.000000         41812.50000   4295.000000   \n",
       "50%           1.000000     1.000000         58055.00000   6775.000000   \n",
       "75%           2.000000     2.000000         70592.50000  11305.000000   \n",
       "max           2.000000     3.000000        114920.00000  21450.000000   \n",
       "\n",
       "       property_claim  vehicle_claim    auto_year  _c39  \n",
       "count     1000.000000    1000.000000  1000.000000   0.0  \n",
       "mean      7399.570000   37928.950000  2005.103000   NaN  \n",
       "std       4824.726179   18886.252893     6.015861   NaN  \n",
       "min          0.000000      70.000000  1995.000000   NaN  \n",
       "25%       4445.000000   30292.500000  2000.000000   NaN  \n",
       "50%       6750.000000   42100.000000  2005.000000   NaN  \n",
       "75%      10885.000000   50822.500000  2010.000000   NaN  \n",
       "max      23670.000000   79560.000000  2015.000000   NaN  "
      ]
     },
     "execution_count": 10,
     "metadata": {},
     "output_type": "execute_result"
    }
   ],
   "source": [
    "data.describe()"
   ]
  },
  {
   "cell_type": "markdown",
   "metadata": {},
   "source": [
    "## Checking null value in dataset"
   ]
  },
  {
   "cell_type": "code",
   "execution_count": 11,
   "metadata": {},
   "outputs": [
    {
     "data": {
      "text/plain": [
       "months_as_customer                0\n",
       "age                               0\n",
       "policy_number                     0\n",
       "policy_bind_date                  0\n",
       "policy_state                      0\n",
       "policy_csl                        0\n",
       "policy_deductable                 0\n",
       "policy_annual_premium             0\n",
       "umbrella_limit                    0\n",
       "insured_zip                       0\n",
       "insured_sex                       0\n",
       "insured_education_level           0\n",
       "insured_occupation                0\n",
       "insured_hobbies                   0\n",
       "insured_relationship              0\n",
       "capital-gains                     0\n",
       "capital-loss                      0\n",
       "incident_date                     0\n",
       "incident_type                     0\n",
       "collision_type                    0\n",
       "incident_severity                 0\n",
       "authorities_contacted             0\n",
       "incident_state                    0\n",
       "incident_city                     0\n",
       "incident_location                 0\n",
       "incident_hour_of_the_day          0\n",
       "number_of_vehicles_involved       0\n",
       "property_damage                   0\n",
       "bodily_injuries                   0\n",
       "witnesses                         0\n",
       "police_report_available           0\n",
       "total_claim_amount                0\n",
       "injury_claim                      0\n",
       "property_claim                    0\n",
       "vehicle_claim                     0\n",
       "auto_make                         0\n",
       "auto_model                        0\n",
       "auto_year                         0\n",
       "fraud_reported                    0\n",
       "_c39                           1000\n",
       "dtype: int64"
      ]
     },
     "execution_count": 11,
     "metadata": {},
     "output_type": "execute_result"
    }
   ],
   "source": [
    "data.isnull().sum()"
   ]
  },
  {
   "cell_type": "markdown",
   "metadata": {},
   "source": [
    "Oservation: 1) we have 1000 number of data and _c39 contains all if the data as null so need to drop that column"
   ]
  },
  {
   "cell_type": "markdown",
   "metadata": {},
   "source": [
    "### Dropping _c39"
   ]
  },
  {
   "cell_type": "code",
   "execution_count": 12,
   "metadata": {},
   "outputs": [],
   "source": [
    "data.drop('_c39',\n",
    "  axis='columns', inplace=True)"
   ]
  },
  {
   "cell_type": "markdown",
   "metadata": {},
   "source": [
    "_c39 column has been dropped"
   ]
  },
  {
   "cell_type": "code",
   "execution_count": 13,
   "metadata": {},
   "outputs": [
    {
     "name": "stdout",
     "output_type": "stream",
     "text": [
      "?      343\n",
      "NO     343\n",
      "YES    314\n",
      "Name: police_report_available, dtype: int64\n"
     ]
    },
    {
     "data": {
      "image/png": "[encoded data removed]",
      "text/plain": [
       "<Figure size 432x288 with 1 Axes>"
      ]
     },
     "metadata": {
      "needs_background": "light"
     },
     "output_type": "display_data"
    }
   ],
   "source": [
    "import seaborn as sns\n",
    "alpha = sns.countplot(x=\"police_report_available\",data=data)\n",
    "print(data[\"police_report_available\"].value_counts())"
   ]
  },
  {
   "cell_type": "markdown",
   "metadata": {},
   "source": [
    "Observation: we can change ? with nan and then with mean or median. But if will encode it it will be considered as 0"
   ]
  },
  {
   "cell_type": "code",
   "execution_count": 14,
   "metadata": {},
   "outputs": [],
   "source": [
    "data['police_report_available'] = data['police_report_available'].replace(['?'],np.nan)"
   ]
  },
  {
   "cell_type": "code",
   "execution_count": 15,
   "metadata": {},
   "outputs": [
    {
     "data": {
      "text/plain": [
       "0      YES\n",
       "1      NaN\n",
       "2       NO\n",
       "3       NO\n",
       "4       NO\n",
       "      ... \n",
       "995    NaN\n",
       "996    NaN\n",
       "997    YES\n",
       "998    YES\n",
       "999    NaN\n",
       "Name: police_report_available, Length: 1000, dtype: object"
      ]
     },
     "execution_count": 15,
     "metadata": {},
     "output_type": "execute_result"
    }
   ],
   "source": [
    "data['police_report_available']"
   ]
  },
  {
   "cell_type": "code",
   "execution_count": 16,
   "metadata": {},
   "outputs": [
    {
     "data": {
      "text/plain": [
       "months_as_customer               0\n",
       "age                              0\n",
       "policy_number                    0\n",
       "policy_bind_date                 0\n",
       "policy_state                     0\n",
       "policy_csl                       0\n",
       "policy_deductable                0\n",
       "policy_annual_premium            0\n",
       "umbrella_limit                   0\n",
       "insured_zip                      0\n",
       "insured_sex                      0\n",
       "insured_education_level          0\n",
       "insured_occupation               0\n",
       "insured_hobbies                  0\n",
       "insured_relationship             0\n",
       "capital-gains                    0\n",
       "capital-loss                     0\n",
       "incident_date                    0\n",
       "incident_type                    0\n",
       "collision_type                   0\n",
       "incident_severity                0\n",
       "authorities_contacted            0\n",
       "incident_state                   0\n",
       "incident_city                    0\n",
       "incident_location                0\n",
       "incident_hour_of_the_day         0\n",
       "number_of_vehicles_involved      0\n",
       "property_damage                  0\n",
       "bodily_injuries                  0\n",
       "witnesses                        0\n",
       "police_report_available        343\n",
       "total_claim_amount               0\n",
       "injury_claim                     0\n",
       "property_claim                   0\n",
       "vehicle_claim                    0\n",
       "auto_make                        0\n",
       "auto_model                       0\n",
       "auto_year                        0\n",
       "fraud_reported                   0\n",
       "dtype: int64"
      ]
     },
     "execution_count": 16,
     "metadata": {},
     "output_type": "execute_result"
    }
   ],
   "source": [
    "data.isnull().sum()"
   ]
  },
  {
   "cell_type": "markdown",
   "metadata": {},
   "source": [
    "## Handling null values of police_report_available"
   ]
  },
  {
   "cell_type": "code",
   "execution_count": 17,
   "metadata": {},
   "outputs": [],
   "source": [
    "#1. Function to replace NAN values with mode value this both rows are categorical,\n",
    "#not numeric based with datatype of float or int\n",
    "def impute_nan_most_frequent_category(data,ColName):\n",
    "    # .mode()[0] - gives first category name\n",
    "     most_frequent_category=data[ColName].mode()[0]\n",
    "    \n",
    "    # replace nan values with most occured category\n",
    "     #data[ColName + \"_Imputed\"] = data[ColName]\n",
    "     #data[ColName + \"_Imputed\"].fillna(most_frequent_category,inplace=True)\n",
    "     data[ColName] = data[ColName]\n",
    "     data[ColName].fillna(most_frequent_category,inplace=True)"
   ]
  },
  {
   "cell_type": "code",
   "execution_count": 18,
   "metadata": {},
   "outputs": [
    {
     "data": {
      "text/html": [
       "<div>\n",
       "<style scoped>\n",
       "    .dataframe tbody tr th:only-of-type {\n",
       "        vertical-align: middle;\n",
       "    }\n",
       "\n",
       "    .dataframe tbody tr th {\n",
       "        vertical-align: top;\n",
       "    }\n",
       "\n",
       "    .dataframe thead th {\n",
       "        text-align: right;\n",
       "    }\n",
       "</style>\n",
       "<table border=\"1\" class=\"dataframe\">\n",
       "  <thead>\n",
       "    <tr style=\"text-align: right;\">\n",
       "      <th></th>\n",
       "      <th>police_report_available</th>\n",
       "    </tr>\n",
       "  </thead>\n",
       "  <tbody>\n",
       "    <tr>\n",
       "      <th>0</th>\n",
       "      <td>YES</td>\n",
       "    </tr>\n",
       "    <tr>\n",
       "      <th>1</th>\n",
       "      <td>NO</td>\n",
       "    </tr>\n",
       "    <tr>\n",
       "      <th>2</th>\n",
       "      <td>NO</td>\n",
       "    </tr>\n",
       "    <tr>\n",
       "      <th>3</th>\n",
       "      <td>NO</td>\n",
       "    </tr>\n",
       "    <tr>\n",
       "      <th>4</th>\n",
       "      <td>NO</td>\n",
       "    </tr>\n",
       "    <tr>\n",
       "      <th>5</th>\n",
       "      <td>NO</td>\n",
       "    </tr>\n",
       "    <tr>\n",
       "      <th>6</th>\n",
       "      <td>NO</td>\n",
       "    </tr>\n",
       "    <tr>\n",
       "      <th>7</th>\n",
       "      <td>YES</td>\n",
       "    </tr>\n",
       "    <tr>\n",
       "      <th>8</th>\n",
       "      <td>YES</td>\n",
       "    </tr>\n",
       "    <tr>\n",
       "      <th>9</th>\n",
       "      <td>NO</td>\n",
       "    </tr>\n",
       "  </tbody>\n",
       "</table>\n",
       "</div>"
      ],
      "text/plain": [
       "  police_report_available\n",
       "0                     YES\n",
       "1                      NO\n",
       "2                      NO\n",
       "3                      NO\n",
       "4                      NO\n",
       "5                      NO\n",
       "6                      NO\n",
       "7                     YES\n",
       "8                     YES\n",
       "9                      NO"
      ]
     },
     "execution_count": 18,
     "metadata": {},
     "output_type": "execute_result"
    }
   ],
   "source": [
    "#2. Call function to impute most occured category\n",
    "for Columns in ['police_report_available']:\n",
    "    impute_nan_most_frequent_category(data,Columns)\n",
    "    \n",
    "# Display imputed result\n",
    "data[['police_report_available']].head(10)"
   ]
  },
  {
   "cell_type": "code",
   "execution_count": 19,
   "metadata": {},
   "outputs": [
    {
     "data": {
      "text/plain": [
       "months_as_customer             0\n",
       "age                            0\n",
       "policy_number                  0\n",
       "policy_bind_date               0\n",
       "policy_state                   0\n",
       "policy_csl                     0\n",
       "policy_deductable              0\n",
       "policy_annual_premium          0\n",
       "umbrella_limit                 0\n",
       "insured_zip                    0\n",
       "insured_sex                    0\n",
       "insured_education_level        0\n",
       "insured_occupation             0\n",
       "insured_hobbies                0\n",
       "insured_relationship           0\n",
       "capital-gains                  0\n",
       "capital-loss                   0\n",
       "incident_date                  0\n",
       "incident_type                  0\n",
       "collision_type                 0\n",
       "incident_severity              0\n",
       "authorities_contacted          0\n",
       "incident_state                 0\n",
       "incident_city                  0\n",
       "incident_location              0\n",
       "incident_hour_of_the_day       0\n",
       "number_of_vehicles_involved    0\n",
       "property_damage                0\n",
       "bodily_injuries                0\n",
       "witnesses                      0\n",
       "police_report_available        0\n",
       "total_claim_amount             0\n",
       "injury_claim                   0\n",
       "property_claim                 0\n",
       "vehicle_claim                  0\n",
       "auto_make                      0\n",
       "auto_model                     0\n",
       "auto_year                      0\n",
       "fraud_reported                 0\n",
       "dtype: int64"
      ]
     },
     "execution_count": 19,
     "metadata": {},
     "output_type": "execute_result"
    }
   ],
   "source": [
    "#Rechecking null values in dataset \n",
    "data.isnull().sum()"
   ]
  },
  {
   "cell_type": "markdown",
   "metadata": {},
   "source": [
    "### Observation _c39 is dropped and ? is replaced with NaN and handling of NAN"
   ]
  },
  {
   "cell_type": "markdown",
   "metadata": {},
   "source": [
    "# Data Cleaning"
   ]
  },
  {
   "cell_type": "code",
   "execution_count": 20,
   "metadata": {},
   "outputs": [
    {
     "data": {
      "text/plain": [
       "months_as_customer             0.362177\n",
       "age                            0.478988\n",
       "policy_number                  0.038991\n",
       "policy_deductable              0.477887\n",
       "policy_annual_premium          0.004402\n",
       "umbrella_limit                 1.806712\n",
       "insured_zip                    0.816554\n",
       "capital-gains                  0.478850\n",
       "capital-loss                  -0.391472\n",
       "incident_hour_of_the_day      -0.035584\n",
       "number_of_vehicles_involved    0.502664\n",
       "bodily_injuries                0.014777\n",
       "witnesses                      0.019636\n",
       "total_claim_amount            -0.594582\n",
       "injury_claim                   0.264811\n",
       "property_claim                 0.378169\n",
       "vehicle_claim                 -0.621098\n",
       "auto_year                     -0.048289\n",
       "dtype: float64"
      ]
     },
     "execution_count": 20,
     "metadata": {},
     "output_type": "execute_result"
    }
   ],
   "source": [
    "data.skew()"
   ]
  },
  {
   "cell_type": "markdown",
   "metadata": {},
   "source": [
    "There contains a skewness"
   ]
  },
  {
   "cell_type": "code",
   "execution_count": 21,
   "metadata": {},
   "outputs": [
    {
     "data": {
      "image/png": "[encoded data removed]",
      "text/plain": [
       "<Figure size 1440x576 with 1 Axes>"
      ]
     },
     "metadata": {
      "needs_background": "light"
     },
     "output_type": "display_data"
    }
   ],
   "source": [
    "#checking for outliers\n",
    "data.iloc[:,:].boxplot(figsize=[20,8])\n",
    "plt.show()"
   ]
  },
  {
   "cell_type": "markdown",
   "metadata": {},
   "source": [
    "There also contains an outlier in ubrella_limit"
   ]
  },
  {
   "cell_type": "markdown",
   "metadata": {},
   "source": [
    "# Encoding"
   ]
  },
  {
   "cell_type": "code",
   "execution_count": 22,
   "metadata": {},
   "outputs": [],
   "source": [
    "from sklearn.preprocessing import OrdinalEncoder\n",
    "enc = OrdinalEncoder()"
   ]
  },
  {
   "cell_type": "code",
   "execution_count": 23,
   "metadata": {},
   "outputs": [],
   "source": [
    "for i in data.columns:\n",
    "    if data[i].dtypes == \"object\":\n",
    "        data[i]=enc.fit_transform(data[i].values.reshape(-1,1))"
   ]
  },
  {
   "cell_type": "code",
   "execution_count": 24,
   "metadata": {},
   "outputs": [
    {
     "data": {
      "text/html": [
       "<div>\n",
       "<style scoped>\n",
       "    .dataframe tbody tr th:only-of-type {\n",
       "        vertical-align: middle;\n",
       "    }\n",
       "\n",
       "    .dataframe tbody tr th {\n",
       "        vertical-align: top;\n",
       "    }\n",
       "\n",
       "    .dataframe thead th {\n",
       "        text-align: right;\n",
       "    }\n",
       "</style>\n",
       "<table border=\"1\" class=\"dataframe\">\n",
       "  <thead>\n",
       "    <tr style=\"text-align: right;\">\n",
       "      <th></th>\n",
       "      <th>months_as_customer</th>\n",
       "      <th>age</th>\n",
       "      <th>policy_number</th>\n",
       "      <th>policy_bind_date</th>\n",
       "      <th>policy_state</th>\n",
       "      <th>policy_csl</th>\n",
       "      <th>policy_deductable</th>\n",
       "      <th>policy_annual_premium</th>\n",
       "      <th>umbrella_limit</th>\n",
       "      <th>insured_zip</th>\n",
       "      <th>...</th>\n",
       "      <th>witnesses</th>\n",
       "      <th>police_report_available</th>\n",
       "      <th>total_claim_amount</th>\n",
       "      <th>injury_claim</th>\n",
       "      <th>property_claim</th>\n",
       "      <th>vehicle_claim</th>\n",
       "      <th>auto_make</th>\n",
       "      <th>auto_model</th>\n",
       "      <th>auto_year</th>\n",
       "      <th>fraud_reported</th>\n",
       "    </tr>\n",
       "  </thead>\n",
       "  <tbody>\n",
       "    <tr>\n",
       "      <th>0</th>\n",
       "      <td>328</td>\n",
       "      <td>48</td>\n",
       "      <td>521585</td>\n",
       "      <td>532.0</td>\n",
       "      <td>2.0</td>\n",
       "      <td>1.0</td>\n",
       "      <td>1000</td>\n",
       "      <td>1406.91</td>\n",
       "      <td>0</td>\n",
       "      <td>466132</td>\n",
       "      <td>...</td>\n",
       "      <td>2</td>\n",
       "      <td>1.0</td>\n",
       "      <td>71610</td>\n",
       "      <td>6510</td>\n",
       "      <td>13020</td>\n",
       "      <td>52080</td>\n",
       "      <td>10.0</td>\n",
       "      <td>1.0</td>\n",
       "      <td>2004</td>\n",
       "      <td>1.0</td>\n",
       "    </tr>\n",
       "    <tr>\n",
       "      <th>1</th>\n",
       "      <td>228</td>\n",
       "      <td>42</td>\n",
       "      <td>342868</td>\n",
       "      <td>821.0</td>\n",
       "      <td>1.0</td>\n",
       "      <td>1.0</td>\n",
       "      <td>2000</td>\n",
       "      <td>1197.22</td>\n",
       "      <td>5000000</td>\n",
       "      <td>468176</td>\n",
       "      <td>...</td>\n",
       "      <td>0</td>\n",
       "      <td>0.0</td>\n",
       "      <td>5070</td>\n",
       "      <td>780</td>\n",
       "      <td>780</td>\n",
       "      <td>3510</td>\n",
       "      <td>8.0</td>\n",
       "      <td>12.0</td>\n",
       "      <td>2007</td>\n",
       "      <td>1.0</td>\n",
       "    </tr>\n",
       "    <tr>\n",
       "      <th>2</th>\n",
       "      <td>134</td>\n",
       "      <td>29</td>\n",
       "      <td>687698</td>\n",
       "      <td>186.0</td>\n",
       "      <td>2.0</td>\n",
       "      <td>0.0</td>\n",
       "      <td>2000</td>\n",
       "      <td>1413.14</td>\n",
       "      <td>5000000</td>\n",
       "      <td>430632</td>\n",
       "      <td>...</td>\n",
       "      <td>3</td>\n",
       "      <td>0.0</td>\n",
       "      <td>34650</td>\n",
       "      <td>7700</td>\n",
       "      <td>3850</td>\n",
       "      <td>23100</td>\n",
       "      <td>4.0</td>\n",
       "      <td>30.0</td>\n",
       "      <td>2007</td>\n",
       "      <td>0.0</td>\n",
       "    </tr>\n",
       "    <tr>\n",
       "      <th>3</th>\n",
       "      <td>256</td>\n",
       "      <td>41</td>\n",
       "      <td>227811</td>\n",
       "      <td>766.0</td>\n",
       "      <td>0.0</td>\n",
       "      <td>1.0</td>\n",
       "      <td>2000</td>\n",
       "      <td>1415.74</td>\n",
       "      <td>6000000</td>\n",
       "      <td>608117</td>\n",
       "      <td>...</td>\n",
       "      <td>2</td>\n",
       "      <td>0.0</td>\n",
       "      <td>63400</td>\n",
       "      <td>6340</td>\n",
       "      <td>6340</td>\n",
       "      <td>50720</td>\n",
       "      <td>3.0</td>\n",
       "      <td>34.0</td>\n",
       "      <td>2014</td>\n",
       "      <td>1.0</td>\n",
       "    </tr>\n",
       "    <tr>\n",
       "      <th>4</th>\n",
       "      <td>228</td>\n",
       "      <td>44</td>\n",
       "      <td>367455</td>\n",
       "      <td>181.0</td>\n",
       "      <td>0.0</td>\n",
       "      <td>2.0</td>\n",
       "      <td>1000</td>\n",
       "      <td>1583.91</td>\n",
       "      <td>6000000</td>\n",
       "      <td>610706</td>\n",
       "      <td>...</td>\n",
       "      <td>1</td>\n",
       "      <td>0.0</td>\n",
       "      <td>6500</td>\n",
       "      <td>1300</td>\n",
       "      <td>650</td>\n",
       "      <td>4550</td>\n",
       "      <td>0.0</td>\n",
       "      <td>31.0</td>\n",
       "      <td>2009</td>\n",
       "      <td>0.0</td>\n",
       "    </tr>\n",
       "    <tr>\n",
       "      <th>...</th>\n",
       "      <td>...</td>\n",
       "      <td>...</td>\n",
       "      <td>...</td>\n",
       "      <td>...</td>\n",
       "      <td>...</td>\n",
       "      <td>...</td>\n",
       "      <td>...</td>\n",
       "      <td>...</td>\n",
       "      <td>...</td>\n",
       "      <td>...</td>\n",
       "      <td>...</td>\n",
       "      <td>...</td>\n",
       "      <td>...</td>\n",
       "      <td>...</td>\n",
       "      <td>...</td>\n",
       "      <td>...</td>\n",
       "      <td>...</td>\n",
       "      <td>...</td>\n",
       "      <td>...</td>\n",
       "      <td>...</td>\n",
       "      <td>...</td>\n",
       "    </tr>\n",
       "    <tr>\n",
       "      <th>995</th>\n",
       "      <td>3</td>\n",
       "      <td>38</td>\n",
       "      <td>941851</td>\n",
       "      <td>487.0</td>\n",
       "      <td>2.0</td>\n",
       "      <td>2.0</td>\n",
       "      <td>1000</td>\n",
       "      <td>1310.80</td>\n",
       "      <td>0</td>\n",
       "      <td>431289</td>\n",
       "      <td>...</td>\n",
       "      <td>1</td>\n",
       "      <td>0.0</td>\n",
       "      <td>87200</td>\n",
       "      <td>17440</td>\n",
       "      <td>8720</td>\n",
       "      <td>61040</td>\n",
       "      <td>6.0</td>\n",
       "      <td>6.0</td>\n",
       "      <td>2006</td>\n",
       "      <td>0.0</td>\n",
       "    </tr>\n",
       "    <tr>\n",
       "      <th>996</th>\n",
       "      <td>285</td>\n",
       "      <td>41</td>\n",
       "      <td>186934</td>\n",
       "      <td>129.0</td>\n",
       "      <td>0.0</td>\n",
       "      <td>0.0</td>\n",
       "      <td>1000</td>\n",
       "      <td>1436.79</td>\n",
       "      <td>0</td>\n",
       "      <td>608177</td>\n",
       "      <td>...</td>\n",
       "      <td>3</td>\n",
       "      <td>0.0</td>\n",
       "      <td>108480</td>\n",
       "      <td>18080</td>\n",
       "      <td>18080</td>\n",
       "      <td>72320</td>\n",
       "      <td>13.0</td>\n",
       "      <td>28.0</td>\n",
       "      <td>2015</td>\n",
       "      <td>0.0</td>\n",
       "    </tr>\n",
       "    <tr>\n",
       "      <th>997</th>\n",
       "      <td>130</td>\n",
       "      <td>34</td>\n",
       "      <td>918516</td>\n",
       "      <td>509.0</td>\n",
       "      <td>2.0</td>\n",
       "      <td>1.0</td>\n",
       "      <td>500</td>\n",
       "      <td>1383.49</td>\n",
       "      <td>3000000</td>\n",
       "      <td>442797</td>\n",
       "      <td>...</td>\n",
       "      <td>3</td>\n",
       "      <td>1.0</td>\n",
       "      <td>67500</td>\n",
       "      <td>7500</td>\n",
       "      <td>7500</td>\n",
       "      <td>52500</td>\n",
       "      <td>11.0</td>\n",
       "      <td>19.0</td>\n",
       "      <td>1996</td>\n",
       "      <td>0.0</td>\n",
       "    </tr>\n",
       "    <tr>\n",
       "      <th>998</th>\n",
       "      <td>458</td>\n",
       "      <td>62</td>\n",
       "      <td>533940</td>\n",
       "      <td>573.0</td>\n",
       "      <td>0.0</td>\n",
       "      <td>2.0</td>\n",
       "      <td>2000</td>\n",
       "      <td>1356.92</td>\n",
       "      <td>5000000</td>\n",
       "      <td>441714</td>\n",
       "      <td>...</td>\n",
       "      <td>1</td>\n",
       "      <td>1.0</td>\n",
       "      <td>46980</td>\n",
       "      <td>5220</td>\n",
       "      <td>5220</td>\n",
       "      <td>36540</td>\n",
       "      <td>1.0</td>\n",
       "      <td>5.0</td>\n",
       "      <td>1998</td>\n",
       "      <td>0.0</td>\n",
       "    </tr>\n",
       "    <tr>\n",
       "      <th>999</th>\n",
       "      <td>456</td>\n",
       "      <td>60</td>\n",
       "      <td>556080</td>\n",
       "      <td>359.0</td>\n",
       "      <td>2.0</td>\n",
       "      <td>1.0</td>\n",
       "      <td>1000</td>\n",
       "      <td>766.19</td>\n",
       "      <td>0</td>\n",
       "      <td>612260</td>\n",
       "      <td>...</td>\n",
       "      <td>3</td>\n",
       "      <td>0.0</td>\n",
       "      <td>5060</td>\n",
       "      <td>460</td>\n",
       "      <td>920</td>\n",
       "      <td>3680</td>\n",
       "      <td>8.0</td>\n",
       "      <td>12.0</td>\n",
       "      <td>2007</td>\n",
       "      <td>0.0</td>\n",
       "    </tr>\n",
       "  </tbody>\n",
       "</table>\n",
       "<p>1000 rows × 39 columns</p>\n",
       "</div>"
      ],
      "text/plain": [
       "     months_as_customer  age  policy_number  policy_bind_date  policy_state  \\\n",
       "0                   328   48         521585             532.0           2.0   \n",
       "1                   228   42         342868             821.0           1.0   \n",
       "2                   134   29         687698             186.0           2.0   \n",
       "3                   256   41         227811             766.0           0.0   \n",
       "4                   228   44         367455             181.0           0.0   \n",
       "..                  ...  ...            ...               ...           ...   \n",
       "995                   3   38         941851             487.0           2.0   \n",
       "996                 285   41         186934             129.0           0.0   \n",
       "997                 130   34         918516             509.0           2.0   \n",
       "998                 458   62         533940             573.0           0.0   \n",
       "999                 456   60         556080             359.0           2.0   \n",
       "\n",
       "     policy_csl  policy_deductable  policy_annual_premium  umbrella_limit  \\\n",
       "0           1.0               1000                1406.91               0   \n",
       "1           1.0               2000                1197.22         5000000   \n",
       "2           0.0               2000                1413.14         5000000   \n",
       "3           1.0               2000                1415.74         6000000   \n",
       "4           2.0               1000                1583.91         6000000   \n",
       "..          ...                ...                    ...             ...   \n",
       "995         2.0               1000                1310.80               0   \n",
       "996         0.0               1000                1436.79               0   \n",
       "997         1.0                500                1383.49         3000000   \n",
       "998         2.0               2000                1356.92         5000000   \n",
       "999         1.0               1000                 766.19               0   \n",
       "\n",
       "     insured_zip  ...  witnesses  police_report_available  total_claim_amount  \\\n",
       "0         466132  ...          2                      1.0               71610   \n",
       "1         468176  ...          0                      0.0                5070   \n",
       "2         430632  ...          3                      0.0               34650   \n",
       "3         608117  ...          2                      0.0               63400   \n",
       "4         610706  ...          1                      0.0                6500   \n",
       "..           ...  ...        ...                      ...                 ...   \n",
       "995       431289  ...          1                      0.0               87200   \n",
       "996       608177  ...          3                      0.0              108480   \n",
       "997       442797  ...          3                      1.0               67500   \n",
       "998       441714  ...          1                      1.0               46980   \n",
       "999       612260  ...          3                      0.0                5060   \n",
       "\n",
       "     injury_claim  property_claim  vehicle_claim  auto_make  auto_model  \\\n",
       "0            6510           13020          52080       10.0         1.0   \n",
       "1             780             780           3510        8.0        12.0   \n",
       "2            7700            3850          23100        4.0        30.0   \n",
       "3            6340            6340          50720        3.0        34.0   \n",
       "4            1300             650           4550        0.0        31.0   \n",
       "..            ...             ...            ...        ...         ...   \n",
       "995         17440            8720          61040        6.0         6.0   \n",
       "996         18080           18080          72320       13.0        28.0   \n",
       "997          7500            7500          52500       11.0        19.0   \n",
       "998          5220            5220          36540        1.0         5.0   \n",
       "999           460             920           3680        8.0        12.0   \n",
       "\n",
       "     auto_year  fraud_reported  \n",
       "0         2004             1.0  \n",
       "1         2007             1.0  \n",
       "2         2007             0.0  \n",
       "3         2014             1.0  \n",
       "4         2009             0.0  \n",
       "..         ...             ...  \n",
       "995       2006             0.0  \n",
       "996       2015             0.0  \n",
       "997       1996             0.0  \n",
       "998       1998             0.0  \n",
       "999       2007             0.0  \n",
       "\n",
       "[1000 rows x 39 columns]"
      ]
     },
     "execution_count": 24,
     "metadata": {},
     "output_type": "execute_result"
    }
   ],
   "source": [
    "data"
   ]
  },
  {
   "cell_type": "markdown",
   "metadata": {},
   "source": [
    "# Corelation of feature variable with the target variable"
   ]
  },
  {
   "cell_type": "code",
   "execution_count": 25,
   "metadata": {},
   "outputs": [
    {
     "data": {
      "image/png": "[encoded data removed]",
      "text/plain": [
       "<Figure size 1584x1440 with 2 Axes>"
      ]
     },
     "metadata": {
      "needs_background": "light"
     },
     "output_type": "display_data"
    }
   ],
   "source": [
    "corr_matrix_hmap=data.corr()\n",
    "plt.figure(figsize=(22,20))\n",
    "sns.heatmap(corr_matrix_hmap,annot=True,linewidths=0.1,fmt=\"0.2f\")\n",
    "plt.show()"
   ]
  },
  {
   "cell_type": "code",
   "execution_count": 26,
   "metadata": {},
   "outputs": [
    {
     "data": {
      "text/plain": [
       "fraud_reported                 1.000000\n",
       "vehicle_claim                  0.170049\n",
       "total_claim_amount             0.163651\n",
       "property_claim                 0.137835\n",
       "collision_type                 0.110130\n",
       "injury_claim                   0.090975\n",
       "policy_bind_date               0.060642\n",
       "umbrella_limit                 0.058622\n",
       "number_of_vehicles_involved    0.051839\n",
       "witnesses                      0.049497\n",
       "bodily_injuries                0.033877\n",
       "insured_sex                    0.030873\n",
       "policy_state                   0.029432\n",
       "insured_relationship           0.021043\n",
       "months_as_customer             0.020544\n",
       "insured_zip                    0.019368\n",
       "policy_deductable              0.014817\n",
       "age                            0.012143\n",
       "insured_education_level        0.008808\n",
       "auto_year                      0.007928\n",
       "incident_hour_of_the_day       0.004316\n",
       "insured_occupation             0.001564\n",
       "auto_model                     0.000720\n",
       "incident_location             -0.008832\n",
       "policy_annual_premium         -0.014480\n",
       "capital-loss                  -0.014863\n",
       "capital-gains                 -0.019173\n",
       "auto_make                     -0.027519\n",
       "police_report_available       -0.027768\n",
       "policy_number                 -0.029443\n",
       "property_damage               -0.030497\n",
       "policy_csl                    -0.037190\n",
       "incident_city                 -0.040403\n",
       "authorities_contacted         -0.045802\n",
       "insured_hobbies               -0.046838\n",
       "incident_date                 -0.047726\n",
       "incident_type                 -0.050376\n",
       "incident_state                -0.051407\n",
       "incident_severity             -0.405988\n",
       "Name: fraud_reported, dtype: float64"
      ]
     },
     "execution_count": 26,
     "metadata": {},
     "output_type": "execute_result"
    }
   ],
   "source": [
    "corr_matrix_hmap[\"fraud_reported\"].sort_values(ascending=False)"
   ]
  },
  {
   "cell_type": "markdown",
   "metadata": {},
   "source": [
    "Most highly corelated variavle is : vehicle_claim"
   ]
  },
  {
   "cell_type": "markdown",
   "metadata": {},
   "source": [
    "Least is: incident_severity"
   ]
  },
  {
   "cell_type": "code",
   "execution_count": 27,
   "metadata": {},
   "outputs": [
    {
     "data": {
      "image/png": "[encoded data removed]",
      "text/plain": [
       "<Figure size 1440x360 with 1 Axes>"
      ]
     },
     "metadata": {
      "needs_background": "light"
     },
     "output_type": "display_data"
    }
   ],
   "source": [
    "plt.figure(figsize=(20,5))\n",
    "data.corr()['fraud_reported'].sort_values(ascending=False).drop(['fraud_reported']).plot(kind='bar',color='c')\n",
    "plt.xlabel('Feature',fontsize=14)\n",
    "plt.ylabel('Column with Target Name',fontsize=14)\n",
    "plt.title('correlation',fontsize=18)\n",
    "plt.show()\n"
   ]
  },
  {
   "cell_type": "markdown",
   "metadata": {},
   "source": [
    "Maximun corelated: vehcile_claim"
   ]
  },
  {
   "cell_type": "markdown",
   "metadata": {},
   "source": [
    "Minimum corelated:insured_occupation and auto_model and auto_year also somewhat"
   ]
  },
  {
   "cell_type": "markdown",
   "metadata": {},
   "source": [
    "Negativel corelated: incident_severity"
   ]
  },
  {
   "cell_type": "markdown",
   "metadata": {},
   "source": [
    "## Outliers "
   ]
  },
  {
   "cell_type": "code",
   "execution_count": 28,
   "metadata": {},
   "outputs": [
    {
     "data": {
      "image/png": "[encoded data removed]",
      "text/plain": [
       "<Figure size 1440x576 with 1 Axes>"
      ]
     },
     "metadata": {
      "needs_background": "light"
     },
     "output_type": "display_data"
    }
   ],
   "source": [
    "#checking for outliers\n",
    "data.iloc[:,:].boxplot(figsize=[20,8])\n",
    "plt.subplots_adjust(bottom=0.25)\n",
    "plt.show()"
   ]
  },
  {
   "cell_type": "code",
   "execution_count": 29,
   "metadata": {},
   "outputs": [
    {
     "data": {
      "text/plain": [
       "array([[1.07813958, 0.99083647, 0.09595307, ..., 1.64574255, 0.1834404 ,\n",
       "        1.74601919],\n",
       "       [0.2089946 , 0.33407345, 0.79152739, ..., 0.65747047, 0.31549088,\n",
       "        1.74601919],\n",
       "       [0.60800168, 1.08891308, 0.55056594, ..., 0.95970204, 0.31549088,\n",
       "        0.57273139],\n",
       "       ...,\n",
       "       [0.64276748, 0.54161057, 1.44891961, ..., 0.02857005, 1.5139238 ,\n",
       "        0.57273139],\n",
       "       [2.20802805, 2.52328351, 0.04786687, ..., 1.28637088, 1.18130295,\n",
       "        0.57273139],\n",
       "       [2.19064515, 2.3043625 , 0.03830297, ..., 0.65747047, 0.31549088,\n",
       "        0.57273139]])"
      ]
     },
     "execution_count": 29,
     "metadata": {},
     "output_type": "execute_result"
    }
   ],
   "source": [
    "# Removing Outliers\n",
    "from scipy.stats import zscore\n",
    "z= np.abs(zscore(data))\n",
    "z"
   ]
  },
  {
   "cell_type": "code",
   "execution_count": 30,
   "metadata": {},
   "outputs": [
    {
     "name": "stdout",
     "output_type": "stream",
     "text": [
      "(array([  0,   0,   0, ..., 999, 999, 999], dtype=int64), array([ 0,  1,  2, ..., 36, 37, 38], dtype=int64))\n"
     ]
    }
   ],
   "source": [
    "threshold = 3\n",
    "print(np.where(z<3))"
   ]
  },
  {
   "cell_type": "code",
   "execution_count": 31,
   "metadata": {},
   "outputs": [],
   "source": [
    "#removing outliers\n",
    "data_new = data[(z<3).all(axis=1)]"
   ]
  },
  {
   "cell_type": "code",
   "execution_count": 32,
   "metadata": {},
   "outputs": [
    {
     "data": {
      "text/plain": [
       "(1000, 39)"
      ]
     },
     "execution_count": 32,
     "metadata": {},
     "output_type": "execute_result"
    }
   ],
   "source": [
    "data.shape"
   ]
  },
  {
   "cell_type": "code",
   "execution_count": 33,
   "metadata": {},
   "outputs": [
    {
     "data": {
      "text/plain": [
       "(980, 39)"
      ]
     },
     "execution_count": 33,
     "metadata": {},
     "output_type": "execute_result"
    }
   ],
   "source": [
    "#After removing outliers\n",
    "data_new.shape"
   ]
  },
  {
   "cell_type": "code",
   "execution_count": 34,
   "metadata": {},
   "outputs": [],
   "source": [
    "data=data_new\n"
   ]
  },
  {
   "cell_type": "code",
   "execution_count": 35,
   "metadata": {},
   "outputs": [
    {
     "data": {
      "text/html": [
       "<div>\n",
       "<style scoped>\n",
       "    .dataframe tbody tr th:only-of-type {\n",
       "        vertical-align: middle;\n",
       "    }\n",
       "\n",
       "    .dataframe tbody tr th {\n",
       "        vertical-align: top;\n",
       "    }\n",
       "\n",
       "    .dataframe thead th {\n",
       "        text-align: right;\n",
       "    }\n",
       "</style>\n",
       "<table border=\"1\" class=\"dataframe\">\n",
       "  <thead>\n",
       "    <tr style=\"text-align: right;\">\n",
       "      <th></th>\n",
       "      <th>months_as_customer</th>\n",
       "      <th>age</th>\n",
       "      <th>policy_number</th>\n",
       "      <th>policy_bind_date</th>\n",
       "      <th>policy_state</th>\n",
       "      <th>policy_csl</th>\n",
       "      <th>policy_deductable</th>\n",
       "      <th>policy_annual_premium</th>\n",
       "      <th>umbrella_limit</th>\n",
       "      <th>insured_zip</th>\n",
       "      <th>...</th>\n",
       "      <th>witnesses</th>\n",
       "      <th>police_report_available</th>\n",
       "      <th>total_claim_amount</th>\n",
       "      <th>injury_claim</th>\n",
       "      <th>property_claim</th>\n",
       "      <th>vehicle_claim</th>\n",
       "      <th>auto_make</th>\n",
       "      <th>auto_model</th>\n",
       "      <th>auto_year</th>\n",
       "      <th>fraud_reported</th>\n",
       "    </tr>\n",
       "  </thead>\n",
       "  <tbody>\n",
       "    <tr>\n",
       "      <th>0</th>\n",
       "      <td>328</td>\n",
       "      <td>48</td>\n",
       "      <td>521585</td>\n",
       "      <td>532.0</td>\n",
       "      <td>2.0</td>\n",
       "      <td>1.0</td>\n",
       "      <td>1000</td>\n",
       "      <td>1406.91</td>\n",
       "      <td>0</td>\n",
       "      <td>466132</td>\n",
       "      <td>...</td>\n",
       "      <td>2</td>\n",
       "      <td>1.0</td>\n",
       "      <td>71610</td>\n",
       "      <td>6510</td>\n",
       "      <td>13020</td>\n",
       "      <td>52080</td>\n",
       "      <td>10.0</td>\n",
       "      <td>1.0</td>\n",
       "      <td>2004</td>\n",
       "      <td>1.0</td>\n",
       "    </tr>\n",
       "    <tr>\n",
       "      <th>1</th>\n",
       "      <td>228</td>\n",
       "      <td>42</td>\n",
       "      <td>342868</td>\n",
       "      <td>821.0</td>\n",
       "      <td>1.0</td>\n",
       "      <td>1.0</td>\n",
       "      <td>2000</td>\n",
       "      <td>1197.22</td>\n",
       "      <td>5000000</td>\n",
       "      <td>468176</td>\n",
       "      <td>...</td>\n",
       "      <td>0</td>\n",
       "      <td>0.0</td>\n",
       "      <td>5070</td>\n",
       "      <td>780</td>\n",
       "      <td>780</td>\n",
       "      <td>3510</td>\n",
       "      <td>8.0</td>\n",
       "      <td>12.0</td>\n",
       "      <td>2007</td>\n",
       "      <td>1.0</td>\n",
       "    </tr>\n",
       "    <tr>\n",
       "      <th>2</th>\n",
       "      <td>134</td>\n",
       "      <td>29</td>\n",
       "      <td>687698</td>\n",
       "      <td>186.0</td>\n",
       "      <td>2.0</td>\n",
       "      <td>0.0</td>\n",
       "      <td>2000</td>\n",
       "      <td>1413.14</td>\n",
       "      <td>5000000</td>\n",
       "      <td>430632</td>\n",
       "      <td>...</td>\n",
       "      <td>3</td>\n",
       "      <td>0.0</td>\n",
       "      <td>34650</td>\n",
       "      <td>7700</td>\n",
       "      <td>3850</td>\n",
       "      <td>23100</td>\n",
       "      <td>4.0</td>\n",
       "      <td>30.0</td>\n",
       "      <td>2007</td>\n",
       "      <td>0.0</td>\n",
       "    </tr>\n",
       "    <tr>\n",
       "      <th>3</th>\n",
       "      <td>256</td>\n",
       "      <td>41</td>\n",
       "      <td>227811</td>\n",
       "      <td>766.0</td>\n",
       "      <td>0.0</td>\n",
       "      <td>1.0</td>\n",
       "      <td>2000</td>\n",
       "      <td>1415.74</td>\n",
       "      <td>6000000</td>\n",
       "      <td>608117</td>\n",
       "      <td>...</td>\n",
       "      <td>2</td>\n",
       "      <td>0.0</td>\n",
       "      <td>63400</td>\n",
       "      <td>6340</td>\n",
       "      <td>6340</td>\n",
       "      <td>50720</td>\n",
       "      <td>3.0</td>\n",
       "      <td>34.0</td>\n",
       "      <td>2014</td>\n",
       "      <td>1.0</td>\n",
       "    </tr>\n",
       "    <tr>\n",
       "      <th>4</th>\n",
       "      <td>228</td>\n",
       "      <td>44</td>\n",
       "      <td>367455</td>\n",
       "      <td>181.0</td>\n",
       "      <td>0.0</td>\n",
       "      <td>2.0</td>\n",
       "      <td>1000</td>\n",
       "      <td>1583.91</td>\n",
       "      <td>6000000</td>\n",
       "      <td>610706</td>\n",
       "      <td>...</td>\n",
       "      <td>1</td>\n",
       "      <td>0.0</td>\n",
       "      <td>6500</td>\n",
       "      <td>1300</td>\n",
       "      <td>650</td>\n",
       "      <td>4550</td>\n",
       "      <td>0.0</td>\n",
       "      <td>31.0</td>\n",
       "      <td>2009</td>\n",
       "      <td>0.0</td>\n",
       "    </tr>\n",
       "    <tr>\n",
       "      <th>...</th>\n",
       "      <td>...</td>\n",
       "      <td>...</td>\n",
       "      <td>...</td>\n",
       "      <td>...</td>\n",
       "      <td>...</td>\n",
       "      <td>...</td>\n",
       "      <td>...</td>\n",
       "      <td>...</td>\n",
       "      <td>...</td>\n",
       "      <td>...</td>\n",
       "      <td>...</td>\n",
       "      <td>...</td>\n",
       "      <td>...</td>\n",
       "      <td>...</td>\n",
       "      <td>...</td>\n",
       "      <td>...</td>\n",
       "      <td>...</td>\n",
       "      <td>...</td>\n",
       "      <td>...</td>\n",
       "      <td>...</td>\n",
       "      <td>...</td>\n",
       "    </tr>\n",
       "    <tr>\n",
       "      <th>995</th>\n",
       "      <td>3</td>\n",
       "      <td>38</td>\n",
       "      <td>941851</td>\n",
       "      <td>487.0</td>\n",
       "      <td>2.0</td>\n",
       "      <td>2.0</td>\n",
       "      <td>1000</td>\n",
       "      <td>1310.80</td>\n",
       "      <td>0</td>\n",
       "      <td>431289</td>\n",
       "      <td>...</td>\n",
       "      <td>1</td>\n",
       "      <td>0.0</td>\n",
       "      <td>87200</td>\n",
       "      <td>17440</td>\n",
       "      <td>8720</td>\n",
       "      <td>61040</td>\n",
       "      <td>6.0</td>\n",
       "      <td>6.0</td>\n",
       "      <td>2006</td>\n",
       "      <td>0.0</td>\n",
       "    </tr>\n",
       "    <tr>\n",
       "      <th>996</th>\n",
       "      <td>285</td>\n",
       "      <td>41</td>\n",
       "      <td>186934</td>\n",
       "      <td>129.0</td>\n",
       "      <td>0.0</td>\n",
       "      <td>0.0</td>\n",
       "      <td>1000</td>\n",
       "      <td>1436.79</td>\n",
       "      <td>0</td>\n",
       "      <td>608177</td>\n",
       "      <td>...</td>\n",
       "      <td>3</td>\n",
       "      <td>0.0</td>\n",
       "      <td>108480</td>\n",
       "      <td>18080</td>\n",
       "      <td>18080</td>\n",
       "      <td>72320</td>\n",
       "      <td>13.0</td>\n",
       "      <td>28.0</td>\n",
       "      <td>2015</td>\n",
       "      <td>0.0</td>\n",
       "    </tr>\n",
       "    <tr>\n",
       "      <th>997</th>\n",
       "      <td>130</td>\n",
       "      <td>34</td>\n",
       "      <td>918516</td>\n",
       "      <td>509.0</td>\n",
       "      <td>2.0</td>\n",
       "      <td>1.0</td>\n",
       "      <td>500</td>\n",
       "      <td>1383.49</td>\n",
       "      <td>3000000</td>\n",
       "      <td>442797</td>\n",
       "      <td>...</td>\n",
       "      <td>3</td>\n",
       "      <td>1.0</td>\n",
       "      <td>67500</td>\n",
       "      <td>7500</td>\n",
       "      <td>7500</td>\n",
       "      <td>52500</td>\n",
       "      <td>11.0</td>\n",
       "      <td>19.0</td>\n",
       "      <td>1996</td>\n",
       "      <td>0.0</td>\n",
       "    </tr>\n",
       "    <tr>\n",
       "      <th>998</th>\n",
       "      <td>458</td>\n",
       "      <td>62</td>\n",
       "      <td>533940</td>\n",
       "      <td>573.0</td>\n",
       "      <td>0.0</td>\n",
       "      <td>2.0</td>\n",
       "      <td>2000</td>\n",
       "      <td>1356.92</td>\n",
       "      <td>5000000</td>\n",
       "      <td>441714</td>\n",
       "      <td>...</td>\n",
       "      <td>1</td>\n",
       "      <td>1.0</td>\n",
       "      <td>46980</td>\n",
       "      <td>5220</td>\n",
       "      <td>5220</td>\n",
       "      <td>36540</td>\n",
       "      <td>1.0</td>\n",
       "      <td>5.0</td>\n",
       "      <td>1998</td>\n",
       "      <td>0.0</td>\n",
       "    </tr>\n",
       "    <tr>\n",
       "      <th>999</th>\n",
       "      <td>456</td>\n",
       "      <td>60</td>\n",
       "      <td>556080</td>\n",
       "      <td>359.0</td>\n",
       "      <td>2.0</td>\n",
       "      <td>1.0</td>\n",
       "      <td>1000</td>\n",
       "      <td>766.19</td>\n",
       "      <td>0</td>\n",
       "      <td>612260</td>\n",
       "      <td>...</td>\n",
       "      <td>3</td>\n",
       "      <td>0.0</td>\n",
       "      <td>5060</td>\n",
       "      <td>460</td>\n",
       "      <td>920</td>\n",
       "      <td>3680</td>\n",
       "      <td>8.0</td>\n",
       "      <td>12.0</td>\n",
       "      <td>2007</td>\n",
       "      <td>0.0</td>\n",
       "    </tr>\n",
       "  </tbody>\n",
       "</table>\n",
       "<p>980 rows × 39 columns</p>\n",
       "</div>"
      ],
      "text/plain": [
       "     months_as_customer  age  policy_number  policy_bind_date  policy_state  \\\n",
       "0                   328   48         521585             532.0           2.0   \n",
       "1                   228   42         342868             821.0           1.0   \n",
       "2                   134   29         687698             186.0           2.0   \n",
       "3                   256   41         227811             766.0           0.0   \n",
       "4                   228   44         367455             181.0           0.0   \n",
       "..                  ...  ...            ...               ...           ...   \n",
       "995                   3   38         941851             487.0           2.0   \n",
       "996                 285   41         186934             129.0           0.0   \n",
       "997                 130   34         918516             509.0           2.0   \n",
       "998                 458   62         533940             573.0           0.0   \n",
       "999                 456   60         556080             359.0           2.0   \n",
       "\n",
       "     policy_csl  policy_deductable  policy_annual_premium  umbrella_limit  \\\n",
       "0           1.0               1000                1406.91               0   \n",
       "1           1.0               2000                1197.22         5000000   \n",
       "2           0.0               2000                1413.14         5000000   \n",
       "3           1.0               2000                1415.74         6000000   \n",
       "4           2.0               1000                1583.91         6000000   \n",
       "..          ...                ...                    ...             ...   \n",
       "995         2.0               1000                1310.80               0   \n",
       "996         0.0               1000                1436.79               0   \n",
       "997         1.0                500                1383.49         3000000   \n",
       "998         2.0               2000                1356.92         5000000   \n",
       "999         1.0               1000                 766.19               0   \n",
       "\n",
       "     insured_zip  ...  witnesses  police_report_available  total_claim_amount  \\\n",
       "0         466132  ...          2                      1.0               71610   \n",
       "1         468176  ...          0                      0.0                5070   \n",
       "2         430632  ...          3                      0.0               34650   \n",
       "3         608117  ...          2                      0.0               63400   \n",
       "4         610706  ...          1                      0.0                6500   \n",
       "..           ...  ...        ...                      ...                 ...   \n",
       "995       431289  ...          1                      0.0               87200   \n",
       "996       608177  ...          3                      0.0              108480   \n",
       "997       442797  ...          3                      1.0               67500   \n",
       "998       441714  ...          1                      1.0               46980   \n",
       "999       612260  ...          3                      0.0                5060   \n",
       "\n",
       "     injury_claim  property_claim  vehicle_claim  auto_make  auto_model  \\\n",
       "0            6510           13020          52080       10.0         1.0   \n",
       "1             780             780           3510        8.0        12.0   \n",
       "2            7700            3850          23100        4.0        30.0   \n",
       "3            6340            6340          50720        3.0        34.0   \n",
       "4            1300             650           4550        0.0        31.0   \n",
       "..            ...             ...            ...        ...         ...   \n",
       "995         17440            8720          61040        6.0         6.0   \n",
       "996         18080           18080          72320       13.0        28.0   \n",
       "997          7500            7500          52500       11.0        19.0   \n",
       "998          5220            5220          36540        1.0         5.0   \n",
       "999           460             920           3680        8.0        12.0   \n",
       "\n",
       "     auto_year  fraud_reported  \n",
       "0         2004             1.0  \n",
       "1         2007             1.0  \n",
       "2         2007             0.0  \n",
       "3         2014             1.0  \n",
       "4         2009             0.0  \n",
       "..         ...             ...  \n",
       "995       2006             0.0  \n",
       "996       2015             0.0  \n",
       "997       1996             0.0  \n",
       "998       1998             0.0  \n",
       "999       2007             0.0  \n",
       "\n",
       "[980 rows x 39 columns]"
      ]
     },
     "execution_count": 35,
     "metadata": {},
     "output_type": "execute_result"
    }
   ],
   "source": [
    "data"
   ]
  },
  {
   "cell_type": "markdown",
   "metadata": {},
   "source": [
    "Outliers are been handled"
   ]
  },
  {
   "cell_type": "markdown",
   "metadata": {},
   "source": [
    "# Seperating Independent Variables and Target Variables"
   ]
  },
  {
   "cell_type": "code",
   "execution_count": 36,
   "metadata": {},
   "outputs": [
    {
     "data": {
      "text/html": [
       "<div>\n",
       "<style scoped>\n",
       "    .dataframe tbody tr th:only-of-type {\n",
       "        vertical-align: middle;\n",
       "    }\n",
       "\n",
       "    .dataframe tbody tr th {\n",
       "        vertical-align: top;\n",
       "    }\n",
       "\n",
       "    .dataframe thead th {\n",
       "        text-align: right;\n",
       "    }\n",
       "</style>\n",
       "<table border=\"1\" class=\"dataframe\">\n",
       "  <thead>\n",
       "    <tr style=\"text-align: right;\">\n",
       "      <th></th>\n",
       "      <th>months_as_customer</th>\n",
       "      <th>age</th>\n",
       "      <th>policy_number</th>\n",
       "      <th>policy_bind_date</th>\n",
       "      <th>policy_state</th>\n",
       "      <th>policy_csl</th>\n",
       "      <th>policy_deductable</th>\n",
       "      <th>policy_annual_premium</th>\n",
       "      <th>umbrella_limit</th>\n",
       "      <th>insured_zip</th>\n",
       "      <th>...</th>\n",
       "      <th>bodily_injuries</th>\n",
       "      <th>witnesses</th>\n",
       "      <th>police_report_available</th>\n",
       "      <th>total_claim_amount</th>\n",
       "      <th>injury_claim</th>\n",
       "      <th>property_claim</th>\n",
       "      <th>vehicle_claim</th>\n",
       "      <th>auto_make</th>\n",
       "      <th>auto_model</th>\n",
       "      <th>auto_year</th>\n",
       "    </tr>\n",
       "  </thead>\n",
       "  <tbody>\n",
       "    <tr>\n",
       "      <th>0</th>\n",
       "      <td>328</td>\n",
       "      <td>48</td>\n",
       "      <td>521585</td>\n",
       "      <td>532.0</td>\n",
       "      <td>2.0</td>\n",
       "      <td>1.0</td>\n",
       "      <td>1000</td>\n",
       "      <td>1406.91</td>\n",
       "      <td>0</td>\n",
       "      <td>466132</td>\n",
       "      <td>...</td>\n",
       "      <td>1</td>\n",
       "      <td>2</td>\n",
       "      <td>1.0</td>\n",
       "      <td>71610</td>\n",
       "      <td>6510</td>\n",
       "      <td>13020</td>\n",
       "      <td>52080</td>\n",
       "      <td>10.0</td>\n",
       "      <td>1.0</td>\n",
       "      <td>2004</td>\n",
       "    </tr>\n",
       "    <tr>\n",
       "      <th>1</th>\n",
       "      <td>228</td>\n",
       "      <td>42</td>\n",
       "      <td>342868</td>\n",
       "      <td>821.0</td>\n",
       "      <td>1.0</td>\n",
       "      <td>1.0</td>\n",
       "      <td>2000</td>\n",
       "      <td>1197.22</td>\n",
       "      <td>5000000</td>\n",
       "      <td>468176</td>\n",
       "      <td>...</td>\n",
       "      <td>0</td>\n",
       "      <td>0</td>\n",
       "      <td>0.0</td>\n",
       "      <td>5070</td>\n",
       "      <td>780</td>\n",
       "      <td>780</td>\n",
       "      <td>3510</td>\n",
       "      <td>8.0</td>\n",
       "      <td>12.0</td>\n",
       "      <td>2007</td>\n",
       "    </tr>\n",
       "    <tr>\n",
       "      <th>2</th>\n",
       "      <td>134</td>\n",
       "      <td>29</td>\n",
       "      <td>687698</td>\n",
       "      <td>186.0</td>\n",
       "      <td>2.0</td>\n",
       "      <td>0.0</td>\n",
       "      <td>2000</td>\n",
       "      <td>1413.14</td>\n",
       "      <td>5000000</td>\n",
       "      <td>430632</td>\n",
       "      <td>...</td>\n",
       "      <td>2</td>\n",
       "      <td>3</td>\n",
       "      <td>0.0</td>\n",
       "      <td>34650</td>\n",
       "      <td>7700</td>\n",
       "      <td>3850</td>\n",
       "      <td>23100</td>\n",
       "      <td>4.0</td>\n",
       "      <td>30.0</td>\n",
       "      <td>2007</td>\n",
       "    </tr>\n",
       "    <tr>\n",
       "      <th>3</th>\n",
       "      <td>256</td>\n",
       "      <td>41</td>\n",
       "      <td>227811</td>\n",
       "      <td>766.0</td>\n",
       "      <td>0.0</td>\n",
       "      <td>1.0</td>\n",
       "      <td>2000</td>\n",
       "      <td>1415.74</td>\n",
       "      <td>6000000</td>\n",
       "      <td>608117</td>\n",
       "      <td>...</td>\n",
       "      <td>1</td>\n",
       "      <td>2</td>\n",
       "      <td>0.0</td>\n",
       "      <td>63400</td>\n",
       "      <td>6340</td>\n",
       "      <td>6340</td>\n",
       "      <td>50720</td>\n",
       "      <td>3.0</td>\n",
       "      <td>34.0</td>\n",
       "      <td>2014</td>\n",
       "    </tr>\n",
       "    <tr>\n",
       "      <th>4</th>\n",
       "      <td>228</td>\n",
       "      <td>44</td>\n",
       "      <td>367455</td>\n",
       "      <td>181.0</td>\n",
       "      <td>0.0</td>\n",
       "      <td>2.0</td>\n",
       "      <td>1000</td>\n",
       "      <td>1583.91</td>\n",
       "      <td>6000000</td>\n",
       "      <td>610706</td>\n",
       "      <td>...</td>\n",
       "      <td>0</td>\n",
       "      <td>1</td>\n",
       "      <td>0.0</td>\n",
       "      <td>6500</td>\n",
       "      <td>1300</td>\n",
       "      <td>650</td>\n",
       "      <td>4550</td>\n",
       "      <td>0.0</td>\n",
       "      <td>31.0</td>\n",
       "      <td>2009</td>\n",
       "    </tr>\n",
       "  </tbody>\n",
       "</table>\n",
       "<p>5 rows × 38 columns</p>\n",
       "</div>"
      ],
      "text/plain": [
       "   months_as_customer  age  policy_number  policy_bind_date  policy_state  \\\n",
       "0                 328   48         521585             532.0           2.0   \n",
       "1                 228   42         342868             821.0           1.0   \n",
       "2                 134   29         687698             186.0           2.0   \n",
       "3                 256   41         227811             766.0           0.0   \n",
       "4                 228   44         367455             181.0           0.0   \n",
       "\n",
       "   policy_csl  policy_deductable  policy_annual_premium  umbrella_limit  \\\n",
       "0         1.0               1000                1406.91               0   \n",
       "1         1.0               2000                1197.22         5000000   \n",
       "2         0.0               2000                1413.14         5000000   \n",
       "3         1.0               2000                1415.74         6000000   \n",
       "4         2.0               1000                1583.91         6000000   \n",
       "\n",
       "   insured_zip  ...  bodily_injuries  witnesses  police_report_available  \\\n",
       "0       466132  ...                1          2                      1.0   \n",
       "1       468176  ...                0          0                      0.0   \n",
       "2       430632  ...                2          3                      0.0   \n",
       "3       608117  ...                1          2                      0.0   \n",
       "4       610706  ...                0          1                      0.0   \n",
       "\n",
       "   total_claim_amount  injury_claim  property_claim  vehicle_claim  auto_make  \\\n",
       "0               71610          6510           13020          52080       10.0   \n",
       "1                5070           780             780           3510        8.0   \n",
       "2               34650          7700            3850          23100        4.0   \n",
       "3               63400          6340            6340          50720        3.0   \n",
       "4                6500          1300             650           4550        0.0   \n",
       "\n",
       "   auto_model  auto_year  \n",
       "0         1.0       2004  \n",
       "1        12.0       2007  \n",
       "2        30.0       2007  \n",
       "3        34.0       2014  \n",
       "4        31.0       2009  \n",
       "\n",
       "[5 rows x 38 columns]"
      ]
     },
     "execution_count": 36,
     "metadata": {},
     "output_type": "execute_result"
    }
   ],
   "source": [
    "# x= independent variable\n",
    "x = data.iloc[:,0:-1]\n",
    "x.head()"
   ]
  },
  {
   "cell_type": "code",
   "execution_count": 37,
   "metadata": {},
   "outputs": [
    {
     "data": {
      "text/plain": [
       "0    1.0\n",
       "1    1.0\n",
       "2    0.0\n",
       "3    1.0\n",
       "4    0.0\n",
       "Name: fraud_reported, dtype: float64"
      ]
     },
     "execution_count": 37,
     "metadata": {},
     "output_type": "execute_result"
    }
   ],
   "source": [
    "#y = target variable = fraud_reported\n",
    "y = data.iloc[:,-1]\n",
    "y.head()"
   ]
  },
  {
   "cell_type": "code",
   "execution_count": 38,
   "metadata": {},
   "outputs": [
    {
     "data": {
      "text/plain": [
       "(980, 38)"
      ]
     },
     "execution_count": 38,
     "metadata": {},
     "output_type": "execute_result"
    }
   ],
   "source": [
    "x.shape"
   ]
  },
  {
   "cell_type": "code",
   "execution_count": 39,
   "metadata": {},
   "outputs": [
    {
     "data": {
      "text/plain": [
       "(980,)"
      ]
     },
     "execution_count": 39,
     "metadata": {},
     "output_type": "execute_result"
    }
   ],
   "source": [
    "y.shape"
   ]
  },
  {
   "cell_type": "markdown",
   "metadata": {},
   "source": [
    "### Rechecking skewness after removing outliers"
   ]
  },
  {
   "cell_type": "code",
   "execution_count": 40,
   "metadata": {},
   "outputs": [
    {
     "data": {
      "text/plain": [
       "months_as_customer             0.362608\n",
       "age                            0.475385\n",
       "policy_number                  0.036283\n",
       "policy_bind_date               0.006386\n",
       "policy_state                  -0.038157\n",
       "policy_csl                     0.098248\n",
       "policy_deductable              0.476090\n",
       "policy_annual_premium          0.035964\n",
       "umbrella_limit                 1.801424\n",
       "insured_zip                    0.837283\n",
       "insured_sex                    0.139324\n",
       "insured_education_level        0.006286\n",
       "insured_occupation            -0.055360\n",
       "insured_hobbies               -0.061488\n",
       "insured_relationship           0.078339\n",
       "capital-gains                  0.466619\n",
       "capital-loss                  -0.376884\n",
       "incident_date                  0.002604\n",
       "incident_type                  0.090563\n",
       "collision_type                -0.194015\n",
       "incident_severity              0.277726\n",
       "authorities_contacted         -0.114044\n",
       "incident_state                -0.149255\n",
       "incident_city                  0.043882\n",
       "incident_location             -0.003369\n",
       "incident_hour_of_the_day      -0.039280\n",
       "number_of_vehicles_involved    0.509725\n",
       "property_damage                0.101196\n",
       "bodily_injuries                0.003757\n",
       "witnesses                      0.026211\n",
       "police_report_available        0.796221\n",
       "total_claim_amount            -0.593593\n",
       "injury_claim                   0.271759\n",
       "property_claim                 0.361356\n",
       "vehicle_claim                 -0.620936\n",
       "auto_make                     -0.028739\n",
       "auto_model                    -0.073462\n",
       "auto_year                     -0.054522\n",
       "dtype: float64"
      ]
     },
     "execution_count": 40,
     "metadata": {},
     "output_type": "execute_result"
    }
   ],
   "source": [
    "x.skew()"
   ]
  },
  {
   "cell_type": "code",
   "execution_count": 41,
   "metadata": {},
   "outputs": [
    {
     "data": {
      "text/plain": [
       "months_as_customer               int64\n",
       "age                              int64\n",
       "policy_number                    int64\n",
       "policy_bind_date               float64\n",
       "policy_state                   float64\n",
       "policy_csl                     float64\n",
       "policy_deductable                int64\n",
       "policy_annual_premium          float64\n",
       "umbrella_limit                   int64\n",
       "insured_zip                      int64\n",
       "insured_sex                    float64\n",
       "insured_education_level        float64\n",
       "insured_occupation             float64\n",
       "insured_hobbies                float64\n",
       "insured_relationship           float64\n",
       "capital-gains                    int64\n",
       "capital-loss                     int64\n",
       "incident_date                  float64\n",
       "incident_type                  float64\n",
       "collision_type                 float64\n",
       "incident_severity              float64\n",
       "authorities_contacted          float64\n",
       "incident_state                 float64\n",
       "incident_city                  float64\n",
       "incident_location              float64\n",
       "incident_hour_of_the_day         int64\n",
       "number_of_vehicles_involved      int64\n",
       "property_damage                float64\n",
       "bodily_injuries                  int64\n",
       "witnesses                        int64\n",
       "police_report_available        float64\n",
       "total_claim_amount               int64\n",
       "injury_claim                     int64\n",
       "property_claim                   int64\n",
       "vehicle_claim                    int64\n",
       "auto_make                      float64\n",
       "auto_model                     float64\n",
       "auto_year                        int64\n",
       "dtype: object"
      ]
     },
     "execution_count": 41,
     "metadata": {},
     "output_type": "execute_result"
    }
   ],
   "source": [
    "x.dtypes"
   ]
  },
  {
   "cell_type": "markdown",
   "metadata": {},
   "source": [
    "## Handling Skewness"
   ]
  },
  {
   "cell_type": "code",
   "execution_count": 42,
   "metadata": {},
   "outputs": [],
   "source": [
    "#Method for removing skew\n",
    "\n",
    "from sklearn.preprocessing import power_transform\n",
    "z = power_transform(x[0:])\n",
    "data_new= pd.DataFrame(z,columns=x.columns)"
   ]
  },
  {
   "cell_type": "code",
   "execution_count": 43,
   "metadata": {},
   "outputs": [],
   "source": [
    "x = data_new"
   ]
  },
  {
   "cell_type": "code",
   "execution_count": 44,
   "metadata": {},
   "outputs": [
    {
     "data": {
      "text/plain": [
       "months_as_customer            -0.133972\n",
       "age                           -0.002183\n",
       "policy_number                 -0.161791\n",
       "policy_bind_date              -0.293677\n",
       "policy_state                  -0.150765\n",
       "policy_csl                    -0.096814\n",
       "policy_deductable              0.022179\n",
       "policy_annual_premium         -0.007258\n",
       "umbrella_limit                -7.932397\n",
       "insured_zip                    0.000000\n",
       "insured_sex                    0.139324\n",
       "insured_education_level       -0.187642\n",
       "insured_occupation            -0.238129\n",
       "insured_hobbies               -0.248575\n",
       "insured_relationship          -0.160168\n",
       "capital-gains                  0.031294\n",
       "capital-loss                   0.088750\n",
       "incident_date                 -0.264010\n",
       "incident_type                 -0.095572\n",
       "collision_type                -0.204055\n",
       "incident_severity             -0.079569\n",
       "authorities_contacted         -0.223816\n",
       "incident_state                -0.256064\n",
       "incident_city                 -0.181833\n",
       "incident_location             -0.288690\n",
       "incident_hour_of_the_day      -0.258027\n",
       "number_of_vehicles_involved    0.372833\n",
       "property_damage               -0.093063\n",
       "bodily_injuries               -0.133824\n",
       "witnesses                     -0.151669\n",
       "police_report_available        0.796221\n",
       "total_claim_amount            -0.508540\n",
       "injury_claim                  -0.416732\n",
       "property_claim                -0.357397\n",
       "vehicle_claim                 -0.521805\n",
       "auto_make                     -0.229846\n",
       "auto_model                    -0.276099\n",
       "auto_year                     -0.013973\n",
       "dtype: float64"
      ]
     },
     "execution_count": 44,
     "metadata": {},
     "output_type": "execute_result"
    }
   ],
   "source": [
    "#after removing skewness\n",
    "x.skew()"
   ]
  },
  {
   "cell_type": "code",
   "execution_count": 45,
   "metadata": {},
   "outputs": [],
   "source": [
    "# #one can drop umbrella_limit\n",
    "# x.drop('umbrella_limit',\n",
    "#   axis='columns')\n",
    "\n",
    "#one can drop umbrella_limit\n",
    "x.drop('umbrella_limit',axis='columns', inplace=True)"
   ]
  },
  {
   "cell_type": "markdown",
   "metadata": {},
   "source": [
    "# Visualizations"
   ]
  },
  {
   "cell_type": "code",
   "execution_count": 46,
   "metadata": {},
   "outputs": [
    {
     "data": {
      "text/plain": [
       "Index(['months_as_customer', 'age', 'policy_number', 'policy_bind_date',\n",
       "       'policy_state', 'policy_csl', 'policy_deductable',\n",
       "       'policy_annual_premium', 'umbrella_limit', 'insured_zip', 'insured_sex',\n",
       "       'insured_education_level', 'insured_occupation', 'insured_hobbies',\n",
       "       'insured_relationship', 'capital-gains', 'capital-loss',\n",
       "       'incident_date', 'incident_type', 'collision_type', 'incident_severity',\n",
       "       'authorities_contacted', 'incident_state', 'incident_city',\n",
       "       'incident_location', 'incident_hour_of_the_day',\n",
       "       'number_of_vehicles_involved', 'property_damage', 'bodily_injuries',\n",
       "       'witnesses', 'police_report_available', 'total_claim_amount',\n",
       "       'injury_claim', 'property_claim', 'vehicle_claim', 'auto_make',\n",
       "       'auto_model', 'auto_year', 'fraud_reported'],\n",
       "      dtype='object')"
      ]
     },
     "execution_count": 46,
     "metadata": {},
     "output_type": "execute_result"
    }
   ],
   "source": [
    "data.columns"
   ]
  },
  {
   "cell_type": "code",
   "execution_count": 47,
   "metadata": {},
   "outputs": [
    {
     "name": "stdout",
     "output_type": "stream",
     "text": [
      "0.0    740\n",
      "1.0    240\n",
      "Name: fraud_reported, dtype: int64\n"
     ]
    },
    {
     "data": {
      "image/png": "[encoded data removed]",
      "text/plain": [
       "<Figure size 432x288 with 1 Axes>"
      ]
     },
     "metadata": {
      "needs_background": "light"
     },
     "output_type": "display_data"
    }
   ],
   "source": [
    "import seaborn as sns\n",
    "alpha = sns.countplot(x=\"fraud_reported\",data=data)\n",
    "print(data[\"fraud_reported\"].value_counts())"
   ]
  },
  {
   "cell_type": "markdown",
   "metadata": {},
   "source": [
    "fraud_reported which is out target variable contains 2 values, 0 and 1"
   ]
  },
  {
   "cell_type": "code",
   "execution_count": 48,
   "metadata": {},
   "outputs": [
    {
     "data": {
      "text/plain": [
       "Index(['months_as_customer', 'age', 'policy_number', 'policy_bind_date',\n",
       "       'policy_state', 'policy_csl', 'policy_deductable',\n",
       "       'policy_annual_premium', 'insured_zip', 'insured_sex',\n",
       "       'insured_education_level', 'insured_occupation', 'insured_hobbies',\n",
       "       'insured_relationship', 'capital-gains', 'capital-loss',\n",
       "       'incident_date', 'incident_type', 'collision_type', 'incident_severity',\n",
       "       'authorities_contacted', 'incident_state', 'incident_city',\n",
       "       'incident_location', 'incident_hour_of_the_day',\n",
       "       'number_of_vehicles_involved', 'property_damage', 'bodily_injuries',\n",
       "       'witnesses', 'police_report_available', 'total_claim_amount',\n",
       "       'injury_claim', 'property_claim', 'vehicle_claim', 'auto_make',\n",
       "       'auto_model', 'auto_year'],\n",
       "      dtype='object')"
      ]
     },
     "execution_count": 48,
     "metadata": {},
     "output_type": "execute_result"
    }
   ],
   "source": [
    "x.columns"
   ]
  },
  {
   "cell_type": "code",
   "execution_count": 49,
   "metadata": {},
   "outputs": [],
   "source": [
    "df_visual= x[['months_as_customer', 'age', 'policy_number', 'policy_bind_date',\n",
    "       'policy_state', 'policy_csl', 'policy_deductable',\n",
    "       'policy_annual_premium', 'insured_zip', 'insured_sex',\n",
    "       'insured_education_level', 'insured_occupation', 'insured_hobbies',\n",
    "       'insured_relationship', 'capital-gains', 'capital-loss',\n",
    "       'incident_date', 'incident_type', 'collision_type', 'incident_severity',\n",
    "       'authorities_contacted', 'incident_state', 'incident_city',\n",
    "       'incident_location', 'incident_hour_of_the_day',\n",
    "       'number_of_vehicles_involved', 'property_damage', 'bodily_injuries',\n",
    "       'witnesses', 'police_report_available', 'total_claim_amount',\n",
    "       'injury_claim', 'property_claim', 'vehicle_claim', 'auto_make',\n",
    "       'auto_model', 'auto_year']].copy()"
   ]
  },
  {
   "cell_type": "code",
   "execution_count": 50,
   "metadata": {},
   "outputs": [
    {
     "data": {
      "text/plain": [
       "<AxesSubplot:xlabel='vehicle_claim', ylabel='Density'>"
      ]
     },
     "execution_count": 50,
     "metadata": {},
     "output_type": "execute_result"
    },
    {
     "data": {
      "image/png": "[encoded data removed]",
      "text/plain": [
       "<Figure size 432x288 with 1 Axes>"
      ]
     },
     "metadata": {
      "needs_background": "light"
     },
     "output_type": "display_data"
    }
   ],
   "source": [
    "import seaborn as sns\n",
    "sns.distplot(df_visual['vehicle_claim'],kde=True)"
   ]
  },
  {
   "cell_type": "markdown",
   "metadata": {},
   "source": [
    "it contains overfitting"
   ]
  },
  {
   "cell_type": "code",
   "execution_count": 51,
   "metadata": {},
   "outputs": [],
   "source": [
    "# import seaborn as sns\n",
    "# sns.distplot(df_visual['umbrella_limit'],kde=True)"
   ]
  },
  {
   "cell_type": "markdown",
   "metadata": {},
   "source": [
    "It don't contains overfitting"
   ]
  },
  {
   "cell_type": "markdown",
   "metadata": {},
   "source": [
    "# Scaling"
   ]
  },
  {
   "cell_type": "code",
   "execution_count": 52,
   "metadata": {},
   "outputs": [
    {
     "data": {
      "text/html": [
       "<div>\n",
       "<style scoped>\n",
       "    .dataframe tbody tr th:only-of-type {\n",
       "        vertical-align: middle;\n",
       "    }\n",
       "\n",
       "    .dataframe tbody tr th {\n",
       "        vertical-align: top;\n",
       "    }\n",
       "\n",
       "    .dataframe thead th {\n",
       "        text-align: right;\n",
       "    }\n",
       "</style>\n",
       "<table border=\"1\" class=\"dataframe\">\n",
       "  <thead>\n",
       "    <tr style=\"text-align: right;\">\n",
       "      <th></th>\n",
       "      <th>months_as_customer</th>\n",
       "      <th>age</th>\n",
       "      <th>policy_number</th>\n",
       "      <th>policy_bind_date</th>\n",
       "      <th>policy_state</th>\n",
       "      <th>policy_csl</th>\n",
       "      <th>policy_deductable</th>\n",
       "      <th>policy_annual_premium</th>\n",
       "      <th>insured_zip</th>\n",
       "      <th>insured_sex</th>\n",
       "      <th>...</th>\n",
       "      <th>bodily_injuries</th>\n",
       "      <th>witnesses</th>\n",
       "      <th>police_report_available</th>\n",
       "      <th>total_claim_amount</th>\n",
       "      <th>injury_claim</th>\n",
       "      <th>property_claim</th>\n",
       "      <th>vehicle_claim</th>\n",
       "      <th>auto_make</th>\n",
       "      <th>auto_model</th>\n",
       "      <th>auto_year</th>\n",
       "    </tr>\n",
       "  </thead>\n",
       "  <tbody>\n",
       "    <tr>\n",
       "      <th>count</th>\n",
       "      <td>9.800000e+02</td>\n",
       "      <td>9.800000e+02</td>\n",
       "      <td>9.800000e+02</td>\n",
       "      <td>9.800000e+02</td>\n",
       "      <td>9.800000e+02</td>\n",
       "      <td>9.800000e+02</td>\n",
       "      <td>9.800000e+02</td>\n",
       "      <td>9.800000e+02</td>\n",
       "      <td>980.0</td>\n",
       "      <td>9.800000e+02</td>\n",
       "      <td>...</td>\n",
       "      <td>9.800000e+02</td>\n",
       "      <td>9.800000e+02</td>\n",
       "      <td>9.800000e+02</td>\n",
       "      <td>9.800000e+02</td>\n",
       "      <td>9.800000e+02</td>\n",
       "      <td>9.800000e+02</td>\n",
       "      <td>9.800000e+02</td>\n",
       "      <td>9.800000e+02</td>\n",
       "      <td>9.800000e+02</td>\n",
       "      <td>9.800000e+02</td>\n",
       "    </tr>\n",
       "    <tr>\n",
       "      <th>mean</th>\n",
       "      <td>-8.791154e-17</td>\n",
       "      <td>-2.356392e-16</td>\n",
       "      <td>-3.743746e-16</td>\n",
       "      <td>1.340198e-16</td>\n",
       "      <td>-1.518060e-17</td>\n",
       "      <td>-1.968380e-17</td>\n",
       "      <td>3.544500e-17</td>\n",
       "      <td>1.033187e-16</td>\n",
       "      <td>0.0</td>\n",
       "      <td>-1.360590e-16</td>\n",
       "      <td>...</td>\n",
       "      <td>6.797284e-18</td>\n",
       "      <td>-4.123686e-17</td>\n",
       "      <td>-5.856993e-17</td>\n",
       "      <td>-4.463550e-17</td>\n",
       "      <td>2.066374e-16</td>\n",
       "      <td>-1.465948e-16</td>\n",
       "      <td>-5.347197e-17</td>\n",
       "      <td>1.872652e-16</td>\n",
       "      <td>-2.053913e-16</td>\n",
       "      <td>6.967216e-18</td>\n",
       "    </tr>\n",
       "    <tr>\n",
       "      <th>std</th>\n",
       "      <td>1.000511e+00</td>\n",
       "      <td>1.000511e+00</td>\n",
       "      <td>1.000511e+00</td>\n",
       "      <td>1.000511e+00</td>\n",
       "      <td>1.000511e+00</td>\n",
       "      <td>1.000511e+00</td>\n",
       "      <td>1.000511e+00</td>\n",
       "      <td>1.000511e+00</td>\n",
       "      <td>0.0</td>\n",
       "      <td>1.000511e+00</td>\n",
       "      <td>...</td>\n",
       "      <td>1.000511e+00</td>\n",
       "      <td>1.000511e+00</td>\n",
       "      <td>1.000511e+00</td>\n",
       "      <td>1.000511e+00</td>\n",
       "      <td>1.000511e+00</td>\n",
       "      <td>1.000511e+00</td>\n",
       "      <td>1.000511e+00</td>\n",
       "      <td>1.000511e+00</td>\n",
       "      <td>1.000511e+00</td>\n",
       "      <td>1.000511e+00</td>\n",
       "    </tr>\n",
       "    <tr>\n",
       "      <th>min</th>\n",
       "      <td>-2.411559e+00</td>\n",
       "      <td>-2.858572e+00</td>\n",
       "      <td>-1.934451e+00</td>\n",
       "      <td>-2.169553e+00</td>\n",
       "      <td>-1.265764e+00</td>\n",
       "      <td>-1.231867e+00</td>\n",
       "      <td>-1.215211e+00</td>\n",
       "      <td>-3.051711e+00</td>\n",
       "      <td>0.0</td>\n",
       "      <td>-9.328607e-01</td>\n",
       "      <td>...</td>\n",
       "      <td>-1.264943e+00</td>\n",
       "      <td>-1.406436e+00</td>\n",
       "      <td>-6.786064e-01</td>\n",
       "      <td>-1.930385e+00</td>\n",
       "      <td>-2.172614e+00</td>\n",
       "      <td>-2.193635e+00</td>\n",
       "      <td>-1.928383e+00</td>\n",
       "      <td>-1.813795e+00</td>\n",
       "      <td>-1.965284e+00</td>\n",
       "      <td>-1.657291e+00</td>\n",
       "    </tr>\n",
       "    <tr>\n",
       "      <th>25%</th>\n",
       "      <td>-6.921974e-01</td>\n",
       "      <td>-7.252830e-01</td>\n",
       "      <td>-7.735994e-01</td>\n",
       "      <td>-7.993862e-01</td>\n",
       "      <td>-1.265764e+00</td>\n",
       "      <td>-1.231867e+00</td>\n",
       "      <td>-1.215211e+00</td>\n",
       "      <td>-6.967036e-01</td>\n",
       "      <td>0.0</td>\n",
       "      <td>-9.328607e-01</td>\n",
       "      <td>...</td>\n",
       "      <td>-1.264943e+00</td>\n",
       "      <td>-1.406436e+00</td>\n",
       "      <td>-6.786064e-01</td>\n",
       "      <td>-4.483298e-01</td>\n",
       "      <td>-4.536787e-01</td>\n",
       "      <td>-4.326169e-01</td>\n",
       "      <td>-4.433188e-01</td>\n",
       "      <td>-8.375249e-01</td>\n",
       "      <td>-7.724733e-01</td>\n",
       "      <td>-8.589500e-01</td>\n",
       "    </tr>\n",
       "    <tr>\n",
       "      <th>50%</th>\n",
       "      <td>7.107941e-02</td>\n",
       "      <td>3.204583e-05</td>\n",
       "      <td>2.358119e-02</td>\n",
       "      <td>9.725113e-02</td>\n",
       "      <td>5.900219e-02</td>\n",
       "      <td>1.890510e-01</td>\n",
       "      <td>6.315396e-02</td>\n",
       "      <td>7.480411e-03</td>\n",
       "      <td>0.0</td>\n",
       "      <td>-9.328607e-01</td>\n",
       "      <td>...</td>\n",
       "      <td>9.489457e-02</td>\n",
       "      <td>-3.480680e-01</td>\n",
       "      <td>-6.786064e-01</td>\n",
       "      <td>1.781448e-01</td>\n",
       "      <td>5.565042e-02</td>\n",
       "      <td>4.325576e-02</td>\n",
       "      <td>2.015161e-01</td>\n",
       "      <td>1.808711e-01</td>\n",
       "      <td>1.388233e-01</td>\n",
       "      <td>-3.856952e-02</td>\n",
       "    </tr>\n",
       "    <tr>\n",
       "      <th>75%</th>\n",
       "      <td>6.834392e-01</td>\n",
       "      <td>6.510520e-01</td>\n",
       "      <td>8.405397e-01</td>\n",
       "      <td>8.631367e-01</td>\n",
       "      <td>1.141477e+00</td>\n",
       "      <td>1.233389e+00</td>\n",
       "      <td>1.271808e+00</td>\n",
       "      <td>6.605469e-01</td>\n",
       "      <td>0.0</td>\n",
       "      <td>1.071971e+00</td>\n",
       "      <td>...</td>\n",
       "      <td>1.177809e+00</td>\n",
       "      <td>5.235365e-01</td>\n",
       "      <td>1.473608e+00</td>\n",
       "      <td>6.730569e-01</td>\n",
       "      <td>7.979963e-01</td>\n",
       "      <td>7.601860e-01</td>\n",
       "      <td>6.822520e-01</td>\n",
       "      <td>8.548116e-01</td>\n",
       "      <td>8.723600e-01</td>\n",
       "      <td>8.044020e-01</td>\n",
       "    </tr>\n",
       "    <tr>\n",
       "      <th>max</th>\n",
       "      <td>2.034478e+00</td>\n",
       "      <td>2.261323e+00</td>\n",
       "      <td>1.633618e+00</td>\n",
       "      <td>1.545052e+00</td>\n",
       "      <td>1.141477e+00</td>\n",
       "      <td>1.233389e+00</td>\n",
       "      <td>1.271808e+00</td>\n",
       "      <td>2.900276e+00</td>\n",
       "      <td>0.0</td>\n",
       "      <td>1.071971e+00</td>\n",
       "      <td>...</td>\n",
       "      <td>1.177809e+00</td>\n",
       "      <td>1.292411e+00</td>\n",
       "      <td>1.473608e+00</td>\n",
       "      <td>2.475669e+00</td>\n",
       "      <td>2.108484e+00</td>\n",
       "      <td>2.241339e+00</td>\n",
       "      <td>2.332796e+00</td>\n",
       "      <td>1.481706e+00</td>\n",
       "      <td>1.555670e+00</td>\n",
       "      <td>1.670528e+00</td>\n",
       "    </tr>\n",
       "  </tbody>\n",
       "</table>\n",
       "<p>8 rows × 37 columns</p>\n",
       "</div>"
      ],
      "text/plain": [
       "       months_as_customer           age  policy_number  policy_bind_date  \\\n",
       "count        9.800000e+02  9.800000e+02   9.800000e+02      9.800000e+02   \n",
       "mean        -8.791154e-17 -2.356392e-16  -3.743746e-16      1.340198e-16   \n",
       "std          1.000511e+00  1.000511e+00   1.000511e+00      1.000511e+00   \n",
       "min         -2.411559e+00 -2.858572e+00  -1.934451e+00     -2.169553e+00   \n",
       "25%         -6.921974e-01 -7.252830e-01  -7.735994e-01     -7.993862e-01   \n",
       "50%          7.107941e-02  3.204583e-05   2.358119e-02      9.725113e-02   \n",
       "75%          6.834392e-01  6.510520e-01   8.405397e-01      8.631367e-01   \n",
       "max          2.034478e+00  2.261323e+00   1.633618e+00      1.545052e+00   \n",
       "\n",
       "       policy_state    policy_csl  policy_deductable  policy_annual_premium  \\\n",
       "count  9.800000e+02  9.800000e+02       9.800000e+02           9.800000e+02   \n",
       "mean  -1.518060e-17 -1.968380e-17       3.544500e-17           1.033187e-16   \n",
       "std    1.000511e+00  1.000511e+00       1.000511e+00           1.000511e+00   \n",
       "min   -1.265764e+00 -1.231867e+00      -1.215211e+00          -3.051711e+00   \n",
       "25%   -1.265764e+00 -1.231867e+00      -1.215211e+00          -6.967036e-01   \n",
       "50%    5.900219e-02  1.890510e-01       6.315396e-02           7.480411e-03   \n",
       "75%    1.141477e+00  1.233389e+00       1.271808e+00           6.605469e-01   \n",
       "max    1.141477e+00  1.233389e+00       1.271808e+00           2.900276e+00   \n",
       "\n",
       "       insured_zip   insured_sex  ...  bodily_injuries     witnesses  \\\n",
       "count        980.0  9.800000e+02  ...     9.800000e+02  9.800000e+02   \n",
       "mean           0.0 -1.360590e-16  ...     6.797284e-18 -4.123686e-17   \n",
       "std            0.0  1.000511e+00  ...     1.000511e+00  1.000511e+00   \n",
       "min            0.0 -9.328607e-01  ...    -1.264943e+00 -1.406436e+00   \n",
       "25%            0.0 -9.328607e-01  ...    -1.264943e+00 -1.406436e+00   \n",
       "50%            0.0 -9.328607e-01  ...     9.489457e-02 -3.480680e-01   \n",
       "75%            0.0  1.071971e+00  ...     1.177809e+00  5.235365e-01   \n",
       "max            0.0  1.071971e+00  ...     1.177809e+00  1.292411e+00   \n",
       "\n",
       "       police_report_available  total_claim_amount  injury_claim  \\\n",
       "count             9.800000e+02        9.800000e+02  9.800000e+02   \n",
       "mean             -5.856993e-17       -4.463550e-17  2.066374e-16   \n",
       "std               1.000511e+00        1.000511e+00  1.000511e+00   \n",
       "min              -6.786064e-01       -1.930385e+00 -2.172614e+00   \n",
       "25%              -6.786064e-01       -4.483298e-01 -4.536787e-01   \n",
       "50%              -6.786064e-01        1.781448e-01  5.565042e-02   \n",
       "75%               1.473608e+00        6.730569e-01  7.979963e-01   \n",
       "max               1.473608e+00        2.475669e+00  2.108484e+00   \n",
       "\n",
       "       property_claim  vehicle_claim     auto_make    auto_model     auto_year  \n",
       "count    9.800000e+02   9.800000e+02  9.800000e+02  9.800000e+02  9.800000e+02  \n",
       "mean    -1.465948e-16  -5.347197e-17  1.872652e-16 -2.053913e-16  6.967216e-18  \n",
       "std      1.000511e+00   1.000511e+00  1.000511e+00  1.000511e+00  1.000511e+00  \n",
       "min     -2.193635e+00  -1.928383e+00 -1.813795e+00 -1.965284e+00 -1.657291e+00  \n",
       "25%     -4.326169e-01  -4.433188e-01 -8.375249e-01 -7.724733e-01 -8.589500e-01  \n",
       "50%      4.325576e-02   2.015161e-01  1.808711e-01  1.388233e-01 -3.856952e-02  \n",
       "75%      7.601860e-01   6.822520e-01  8.548116e-01  8.723600e-01  8.044020e-01  \n",
       "max      2.241339e+00   2.332796e+00  1.481706e+00  1.555670e+00  1.670528e+00  \n",
       "\n",
       "[8 rows x 37 columns]"
      ]
     },
     "execution_count": 52,
     "metadata": {},
     "output_type": "execute_result"
    }
   ],
   "source": [
    "x.describe()"
   ]
  },
  {
   "cell_type": "code",
   "execution_count": 53,
   "metadata": {},
   "outputs": [],
   "source": [
    "from sklearn.preprocessing import MinMaxScaler\n",
    "mms = MinMaxScaler()\n",
    "from sklearn.model_selection import train_test_split\n",
    "from sklearn.metrics import accuracy_score\n",
    "import warnings\n",
    "warnings.filterwarnings('ignore')"
   ]
  },
  {
   "cell_type": "code",
   "execution_count": 54,
   "metadata": {},
   "outputs": [
    {
     "data": {
      "text/plain": [
       "array([[0.77734391, 0.75409801, 0.53557702, ..., 0.80977259, 0.04489444,\n",
       "        0.43657897],\n",
       "       [0.60966749, 0.64175994, 0.33363663, ..., 0.67536561, 0.39386981,\n",
       "        0.58692128],\n",
       "       [0.42638858, 0.33644422, 0.70661621, ..., 0.37906556, 0.82810234,\n",
       "        0.58692128],\n",
       "       ...,\n",
       "       [0.41773978, 0.46641077, 0.92660097, ..., 0.87453491, 0.57327901,\n",
       "        0.04745782],\n",
       "       [0.97067268, 0.97260724, 0.5487646 , ..., 0.11101935, 0.18895892,\n",
       "        0.14315387],\n",
       "       [0.9678556 , 0.9443819 , 0.57219064, ..., 0.67536561, 0.39386981,\n",
       "        0.58692128]])"
      ]
     },
     "execution_count": 54,
     "metadata": {},
     "output_type": "execute_result"
    }
   ],
   "source": [
    "x=mms.fit_transform(x)\n",
    "x"
   ]
  },
  {
   "cell_type": "markdown",
   "metadata": {},
   "source": [
    "# Model Training"
   ]
  },
  {
   "cell_type": "code",
   "execution_count": 55,
   "metadata": {},
   "outputs": [],
   "source": [
    "x_train,x_test,y_train,y_test=train_test_split(x,y,test_size=.33,random_state = 42)\n"
   ]
  },
  {
   "cell_type": "code",
   "execution_count": 56,
   "metadata": {},
   "outputs": [
    {
     "data": {
      "text/plain": [
       "(656, 37)"
      ]
     },
     "execution_count": 56,
     "metadata": {},
     "output_type": "execute_result"
    }
   ],
   "source": [
    "x_train.shape"
   ]
  },
  {
   "cell_type": "code",
   "execution_count": 57,
   "metadata": {},
   "outputs": [
    {
     "data": {
      "text/plain": [
       "(656,)"
      ]
     },
     "execution_count": 57,
     "metadata": {},
     "output_type": "execute_result"
    }
   ],
   "source": [
    "y_train.shape"
   ]
  },
  {
   "cell_type": "code",
   "execution_count": 58,
   "metadata": {},
   "outputs": [
    {
     "data": {
      "text/plain": [
       "(324, 37)"
      ]
     },
     "execution_count": 58,
     "metadata": {},
     "output_type": "execute_result"
    }
   ],
   "source": [
    "x_test.shape"
   ]
  },
  {
   "cell_type": "code",
   "execution_count": 59,
   "metadata": {},
   "outputs": [
    {
     "data": {
      "text/plain": [
       "(324,)"
      ]
     },
     "execution_count": 59,
     "metadata": {},
     "output_type": "execute_result"
    }
   ],
   "source": [
    "y_test.shape"
   ]
  },
  {
   "cell_type": "code",
   "execution_count": 60,
   "metadata": {},
   "outputs": [
    {
     "data": {
      "text/plain": [
       "177    0.0\n",
       "130    0.0\n",
       "646    0.0\n",
       "407    0.0\n",
       "902    0.0\n",
       "      ... \n",
       "109    1.0\n",
       "278    1.0\n",
       "878    1.0\n",
       "445    1.0\n",
       "105    0.0\n",
       "Name: fraud_reported, Length: 656, dtype: float64"
      ]
     },
     "execution_count": 60,
     "metadata": {},
     "output_type": "execute_result"
    }
   ],
   "source": [
    "y_train"
   ]
  },
  {
   "cell_type": "code",
   "execution_count": 61,
   "metadata": {},
   "outputs": [],
   "source": [
    "from sklearn.linear_model import LogisticRegression\n",
    "lm = LogisticRegression()"
   ]
  },
  {
   "cell_type": "code",
   "execution_count": 62,
   "metadata": {},
   "outputs": [
    {
     "data": {
      "text/plain": [
       "LogisticRegression()"
      ]
     },
     "execution_count": 62,
     "metadata": {},
     "output_type": "execute_result"
    }
   ],
   "source": [
    "lm.fit(x_train,y_train)"
   ]
  },
  {
   "cell_type": "code",
   "execution_count": 63,
   "metadata": {},
   "outputs": [
    {
     "data": {
      "text/plain": [
       "0.8109756097560976"
      ]
     },
     "execution_count": 63,
     "metadata": {},
     "output_type": "execute_result"
    }
   ],
   "source": [
    "lm.score(x_train,y_train)"
   ]
  },
  {
   "cell_type": "markdown",
   "metadata": {},
   "source": [
    "## Prediction"
   ]
  },
  {
   "cell_type": "code",
   "execution_count": 64,
   "metadata": {},
   "outputs": [
    {
     "name": "stdout",
     "output_type": "stream",
     "text": [
      "Predicted Allitation [0. 0. 0. 0. 1. 1. 0. 0. 0. 0. 0. 0. 0. 0. 0. 0. 0. 0. 0. 0. 0. 0. 0. 0.\n",
      " 0. 0. 0. 0. 0. 0. 0. 0. 0. 0. 0. 0. 1. 0. 0. 0. 0. 0. 0. 1. 0. 0. 0. 0.\n",
      " 0. 0. 0. 0. 0. 0. 0. 0. 0. 0. 0. 0. 0. 0. 1. 0. 0. 0. 0. 0. 0. 0. 1. 0.\n",
      " 0. 0. 0. 0. 0. 0. 0. 0. 0. 0. 1. 0. 0. 0. 1. 1. 1. 1. 1. 0. 0. 0. 0. 0.\n",
      " 0. 0. 0. 1. 0. 1. 0. 0. 0. 0. 0. 0. 0. 0. 0. 0. 0. 0. 0. 0. 0. 0. 0. 0.\n",
      " 0. 0. 0. 0. 0. 0. 0. 0. 1. 0. 0. 0. 0. 0. 0. 0. 1. 0. 0. 1. 1. 0. 0. 0.\n",
      " 0. 1. 0. 0. 1. 0. 0. 0. 0. 1. 0. 0. 0. 0. 0. 1. 0. 0. 0. 0. 0. 0. 0. 0.\n",
      " 0. 0. 0. 0. 0. 0. 0. 0. 0. 0. 0. 1. 0. 0. 1. 0. 0. 0. 0. 0. 0. 0. 0. 0.\n",
      " 0. 0. 0. 0. 1. 0. 0. 0. 0. 0. 0. 0. 0. 0. 0. 0. 0. 0. 0. 0. 0. 0. 1. 1.\n",
      " 0. 0. 0. 0. 0. 0. 0. 0. 0. 0. 0. 0. 0. 1. 1. 0. 0. 0. 0. 0. 0. 0. 0. 1.\n",
      " 0. 1. 0. 0. 0. 0. 0. 0. 0. 0. 1. 0. 0. 0. 1. 0. 0. 0. 0. 0. 0. 0. 0. 0.\n",
      " 0. 0. 1. 0. 0. 0. 0. 0. 1. 0. 1. 0. 0. 0. 0. 0. 0. 0. 0. 0. 0. 0. 0. 0.\n",
      " 0. 0. 0. 0. 0. 0. 0. 0. 0. 0. 0. 1. 1. 1. 0. 0. 0. 0. 0. 1. 0. 0. 1. 0.\n",
      " 0. 0. 0. 1. 0. 0. 0. 0. 0. 1. 0. 0.]\n",
      "Actual Allitation 804    0.0\n",
      "450    0.0\n",
      "144    0.0\n",
      "710    1.0\n",
      "68     0.0\n",
      "      ... \n",
      "589    0.0\n",
      "950    0.0\n",
      "535    1.0\n",
      "925    0.0\n",
      "361    1.0\n",
      "Name: fraud_reported, Length: 324, dtype: float64\n"
     ]
    }
   ],
   "source": [
    "#predict the values\n",
    "pred=lm.predict(x_test)\n",
    "print(\"Predicted Allitation\",pred)\n",
    "print(\"Actual Allitation\",y_test)"
   ]
  },
  {
   "cell_type": "code",
   "execution_count": 65,
   "metadata": {},
   "outputs": [
    {
     "name": "stdout",
     "output_type": "stream",
     "text": [
      "Accuracy Score: 0.75\n"
     ]
    }
   ],
   "source": [
    "print('Accuracy Score:',accuracy_score(y_test,pred))"
   ]
  },
  {
   "cell_type": "markdown",
   "metadata": {},
   "source": [
    "## Finding Best Random State"
   ]
  },
  {
   "cell_type": "code",
   "execution_count": 66,
   "metadata": {},
   "outputs": [
    {
     "name": "stdout",
     "output_type": "stream",
     "text": [
      "Best score is:  0.8209876543209876 on Random_state 58\n"
     ]
    }
   ],
   "source": [
    "from sklearn.linear_model import LogisticRegression\n",
    "from sklearn.metrics import accuracy_score\n",
    "maxAccu=0\n",
    "maxRS=0\n",
    "for i in range(1,200):\n",
    "    x_train,x_test,y_train,y_test=train_test_split(x,y,test_size=.33,random_state = i)\n",
    "    LR = LogisticRegression()\n",
    "    LR.fit(x_train,y_train)\n",
    "    predrf = LR.predict(x_test)\n",
    "    acc =accuracy_score(y_test,predrf)\n",
    "    if acc > maxAccu:\n",
    "        maxAccu = acc\n",
    "        maxRS = i\n",
    "        \n",
    "print(\"Best score is: \",maxAccu,\"on Random_state\",maxRS)"
   ]
  },
  {
   "cell_type": "markdown",
   "metadata": {},
   "source": [
    "## Tain-Test Model as per Best Ransom state"
   ]
  },
  {
   "cell_type": "code",
   "execution_count": 67,
   "metadata": {},
   "outputs": [],
   "source": [
    "x_train,x_test,y_train,y_test=train_test_split(x,y,test_size=.33,random_state = 58)\n",
    "LR = LogisticRegression()\n",
    "LR.fit(x_train,y_train)\n",
    "predrf = LR.predict(x_test)"
   ]
  },
  {
   "cell_type": "code",
   "execution_count": 68,
   "metadata": {},
   "outputs": [
    {
     "name": "stdout",
     "output_type": "stream",
     "text": [
      "Accuracy Score: 0.8209876543209876\n",
      "Confusion Matrix: [[232  17]\n",
      " [ 41  34]]\n",
      "Classification Report:               precision    recall  f1-score   support\n",
      "\n",
      "         0.0       0.85      0.93      0.89       249\n",
      "         1.0       0.67      0.45      0.54        75\n",
      "\n",
      "    accuracy                           0.82       324\n",
      "   macro avg       0.76      0.69      0.71       324\n",
      "weighted avg       0.81      0.82      0.81       324\n",
      "\n"
     ]
    }
   ],
   "source": [
    "from sklearn.metrics import confusion_matrix\n",
    "\n",
    "from sklearn.metrics import classification_report\n",
    "print('Accuracy Score:', accuracy_score(y_test,predrf))\n",
    "print('Confusion Matrix:', confusion_matrix(y_test,predrf))\n",
    "print('Classification Report:', classification_report(y_test,predrf))"
   ]
  },
  {
   "cell_type": "code",
   "execution_count": 69,
   "metadata": {},
   "outputs": [
    {
     "name": "stdout",
     "output_type": "stream",
     "text": [
      "Accuracy Score: 0.7716049382716049\n",
      "Confusion Matrix: [[207  42]\n",
      " [ 32  43]]\n",
      "Classification Report:               precision    recall  f1-score   support\n",
      "\n",
      "         0.0       0.87      0.83      0.85       249\n",
      "         1.0       0.51      0.57      0.54        75\n",
      "\n",
      "    accuracy                           0.77       324\n",
      "   macro avg       0.69      0.70      0.69       324\n",
      "weighted avg       0.78      0.77      0.78       324\n",
      "\n"
     ]
    }
   ],
   "source": [
    "from sklearn.tree import DecisionTreeClassifier\n",
    "dt = DecisionTreeClassifier()\n",
    "dt.fit(x_train,y_train)\n",
    "preddt = dt.predict(x_test)\n",
    "print('Accuracy Score:', accuracy_score(y_test,preddt))\n",
    "print('Confusion Matrix:', confusion_matrix(y_test,preddt))\n",
    "print('Classification Report:', classification_report(y_test,preddt))"
   ]
  },
  {
   "cell_type": "code",
   "execution_count": 70,
   "metadata": {},
   "outputs": [
    {
     "name": "stdout",
     "output_type": "stream",
     "text": [
      "Accuracy Score: 0.7932098765432098\n",
      "Confusion Matrix: [[236  13]\n",
      " [ 54  21]]\n",
      "Classification Report:               precision    recall  f1-score   support\n",
      "\n",
      "         0.0       0.81      0.95      0.88       249\n",
      "         1.0       0.62      0.28      0.39        75\n",
      "\n",
      "    accuracy                           0.79       324\n",
      "   macro avg       0.72      0.61      0.63       324\n",
      "weighted avg       0.77      0.79      0.76       324\n",
      "\n"
     ]
    }
   ],
   "source": [
    "from sklearn.ensemble import RandomForestClassifier\n",
    "rfc = RandomForestClassifier()\n",
    "rfc.fit(x_train,y_train)\n",
    "predrfc = rfc.predict(x_test)\n",
    "print('Accuracy Score:', accuracy_score(y_test,predrfc))\n",
    "print('Confusion Matrix:', confusion_matrix(y_test,predrfc))\n",
    "print('Classification Report:', classification_report(y_test,predrfc))"
   ]
  },
  {
   "cell_type": "code",
   "execution_count": 71,
   "metadata": {},
   "outputs": [
    {
     "name": "stdout",
     "output_type": "stream",
     "text": [
      "Accuracy Score: 0.7746913580246914\n",
      "Confusion Matrix: [[246   3]\n",
      " [ 70   5]]\n",
      "Classification Report:               precision    recall  f1-score   support\n",
      "\n",
      "         0.0       0.78      0.99      0.87       249\n",
      "         1.0       0.62      0.07      0.12        75\n",
      "\n",
      "    accuracy                           0.77       324\n",
      "   macro avg       0.70      0.53      0.50       324\n",
      "weighted avg       0.74      0.77      0.70       324\n",
      "\n"
     ]
    }
   ],
   "source": [
    "from sklearn import svm\n",
    "svm = svm.SVC()\n",
    "svm.fit(x_train,y_train)\n",
    "predsvm = svm.predict(x_test)\n",
    "print('Accuracy Score:', accuracy_score(y_test,predsvm))\n",
    "print('Confusion Matrix:', confusion_matrix(y_test,predsvm))\n",
    "print('Classification Report:', classification_report(y_test,predsvm))"
   ]
  },
  {
   "cell_type": "code",
   "execution_count": 72,
   "metadata": {},
   "outputs": [
    {
     "name": "stdout",
     "output_type": "stream",
     "text": [
      "At cross fold 2 cv score is 0.7775510204081633 and accuracy score training is 0.7911585365853658 and accuracy for the testing is 0.8209876543209876\n",
      "\n",
      "\n",
      "At cross fold 3 cv score is 0.7693914435626598 and accuracy score training is 0.7911585365853658 and accuracy for the testing is 0.8209876543209876\n",
      "\n",
      "\n",
      "At cross fold 4 cv score is 0.7744897959183674 and accuracy score training is 0.7911585365853658 and accuracy for the testing is 0.8209876543209876\n",
      "\n",
      "\n",
      "At cross fold 5 cv score is 0.7795918367346939 and accuracy score training is 0.7911585365853658 and accuracy for the testing is 0.8209876543209876\n",
      "\n",
      "\n",
      "At cross fold 6 cv score is 0.7734550351638486 and accuracy score training is 0.7911585365853658 and accuracy for the testing is 0.8209876543209876\n",
      "\n",
      "\n",
      "At cross fold 7 cv score is 0.7734693877551021 and accuracy score training is 0.7911585365853658 and accuracy for the testing is 0.8209876543209876\n",
      "\n",
      "\n",
      "At cross fold 8 cv score is 0.7724160335865654 and accuracy score training is 0.7911585365853658 and accuracy for the testing is 0.8209876543209876\n",
      "\n",
      "\n",
      "At cross fold 9 cv score is 0.7744553932117643 and accuracy score training is 0.7911585365853658 and accuracy for the testing is 0.8209876543209876\n",
      "\n",
      "\n",
      "At cross fold 10 cv score is 0.7775510204081633 and accuracy score training is 0.7911585365853658 and accuracy for the testing is 0.8209876543209876\n",
      "\n",
      "\n",
      "At cross fold 11 cv score is 0.7806491885143572 and accuracy score training is 0.7911585365853658 and accuracy for the testing is 0.8209876543209876\n",
      "\n",
      "\n",
      "At cross fold 12 cv score is 0.773461808692161 and accuracy score training is 0.7911585365853658 and accuracy for the testing is 0.8209876543209876\n",
      "\n",
      "\n",
      "At cross fold 13 cv score is 0.7795411605937923 and accuracy score training is 0.7911585365853658 and accuracy for the testing is 0.8209876543209876\n",
      "\n",
      "\n",
      "At cross fold 14 cv score is 0.7775510204081633 and accuracy score training is 0.7911585365853658 and accuracy for the testing is 0.8209876543209876\n",
      "\n",
      "\n",
      "At cross fold 15 cv score is 0.7765034965034966 and accuracy score training is 0.7911585365853658 and accuracy for the testing is 0.8209876543209876\n",
      "\n",
      "\n"
     ]
    }
   ],
   "source": [
    "\n",
    "\n",
    "pred_train = LR.predict(x_train)\n",
    "pred_test =LR.predict(x_test) \n",
    "Train_accuracy = accuracy_score(y_train,pred_train)\n",
    "Test_accuracy = accuracy_score(y_test,pred_test)\n",
    "maxAccu=0\n",
    "maxRS=0\n",
    "\n",
    "\n",
    "from sklearn.model_selection import cross_val_score\n",
    "for j in range(2,16):\n",
    "    cv_score=cross_val_score(LR,x,y,cv=j)\n",
    "    cv_mean = cv_score.mean()\n",
    "    if cv_mean > maxAccu:\n",
    "        maxAccu = cv_mean\n",
    "        maxRS = j\n",
    "    print(f\"At cross fold {j} cv score is {cv_mean} and accuracy score training is {Train_accuracy} and accuracy for the testing is {Test_accuracy}\")\n",
    "\n",
    "        \n",
    "        \n",
    "    print(\"\\n\")\n",
    "    \n",
    "        \n",
    "    \n",
    "    \n",
    " \n",
    "    "
   ]
  },
  {
   "cell_type": "code",
   "execution_count": 73,
   "metadata": {},
   "outputs": [
    {
     "name": "stdout",
     "output_type": "stream",
     "text": [
      "Cross validation score for Logistic Regression 0.7765034965034966\n"
     ]
    }
   ],
   "source": [
    "from sklearn.model_selection import cross_val_score\n",
    "cv_score=cross_val_score(LR,x,y,cv=j)\n",
    "cv_mean = cv_score.mean()\n",
    "print(\"Cross validation score for Logistic Regression\",cv_mean)"
   ]
  },
  {
   "cell_type": "code",
   "execution_count": 74,
   "metadata": {},
   "outputs": [
    {
     "name": "stdout",
     "output_type": "stream",
     "text": [
      "Cross validation score for Decision Tree 0.8032478632478633\n"
     ]
    }
   ],
   "source": [
    "from sklearn.model_selection import cross_val_score\n",
    "cv_score=cross_val_score(dt,x,y,cv=j)\n",
    "cv_mean = cv_score.mean()\n",
    "print(\"Cross validation score for Decision Tree\",cv_mean)"
   ]
  },
  {
   "cell_type": "code",
   "execution_count": 75,
   "metadata": {},
   "outputs": [
    {
     "name": "stdout",
     "output_type": "stream",
     "text": [
      "Cross validation score for Random Forest Classifier 0.7633255633255634\n"
     ]
    }
   ],
   "source": [
    "from sklearn.model_selection import cross_val_score\n",
    "cv_score=cross_val_score(rfc,x,y,cv=j)\n",
    "cv_mean = cv_score.mean()\n",
    "print(\"Cross validation score for Random Forest Classifier\",cv_mean)"
   ]
  },
  {
   "cell_type": "code",
   "execution_count": 76,
   "metadata": {},
   "outputs": [
    {
     "name": "stdout",
     "output_type": "stream",
     "text": [
      "Cross validation score for Support Vector Machhine 0.7479564879564883\n"
     ]
    }
   ],
   "source": [
    "from sklearn.model_selection import cross_val_score\n",
    "cv_score=cross_val_score(svm,x,y,cv=j)\n",
    "cv_mean = cv_score.mean()\n",
    "print(\"Cross validation score for Support Vector Machhine\",cv_mean)"
   ]
  },
  {
   "cell_type": "markdown",
   "metadata": {},
   "source": [
    "### Lesser the diffrence between Accuracy and cross validation, Best the model"
   ]
  },
  {
   "cell_type": "markdown",
   "metadata": {},
   "source": [
    "#### Decision Tree shows max accuracy"
   ]
  },
  {
   "cell_type": "markdown",
   "metadata": {},
   "source": [
    "%Accuracyscore = accuracy - crossvalidation"
   ]
  },
  {
   "cell_type": "markdown",
   "metadata": {},
   "source": [
    "# Regularization"
   ]
  },
  {
   "cell_type": "markdown",
   "metadata": {},
   "source": [
    "To mitigate the problem of overfitting and underfitting Regularization Methods are used: Lasso, Ridge or ElasticNet ."
   ]
  },
  {
   "cell_type": "code",
   "execution_count": 77,
   "metadata": {},
   "outputs": [],
   "source": [
    "from sklearn.model_selection import cross_val_score\n",
    "import warnings\n",
    "warnings.filterwarnings('ignore')\n"
   ]
  },
  {
   "cell_type": "code",
   "execution_count": 78,
   "metadata": {},
   "outputs": [
    {
     "name": "stdout",
     "output_type": "stream",
     "text": [
      "{'alpha': 0.01, 'random_state': 0}\n"
     ]
    }
   ],
   "source": [
    "from sklearn.linear_model import ElasticNet\n",
    "from sklearn.model_selection import GridSearchCV\n",
    "parameters = {'alpha':[.0001,.001,.01,.1,1,10],'random_state':list(range(0,10))}\n",
    "EN=ElasticNet()\n",
    "clf=GridSearchCV(EN,parameters)\n",
    "clf.fit(x_train,y_train)\n",
    "\n",
    "print(clf.best_params_)"
   ]
  },
  {
   "cell_type": "code",
   "execution_count": 79,
   "metadata": {},
   "outputs": [
    {
     "data": {
      "text/plain": [
       "0.8209876543209876"
      ]
     },
     "execution_count": 79,
     "metadata": {},
     "output_type": "execute_result"
    }
   ],
   "source": [
    "EN = ElasticNet(alpha=0.01,random_state=0)\n",
    "EN.fit(x_train,y_train)\n",
    "EN.score(x_train,y_train)\n",
    "pred_EN=EN.predict(x_test)\n",
    "\n",
    "lss= accuracy_score(y_test,pred_test)\n",
    "lss"
   ]
  },
  {
   "cell_type": "code",
   "execution_count": 80,
   "metadata": {},
   "outputs": [
    {
     "data": {
      "text/plain": [
       "0.17065039633155782"
      ]
     },
     "execution_count": 80,
     "metadata": {},
     "output_type": "execute_result"
    }
   ],
   "source": [
    "#cross_validation_mean = cv_mean\n",
    "#cross_validation_score= cv_score\n",
    "\n",
    "cross_validation_score = cross_val_score(EN,x,y,cv=5)\n",
    "cross_validation_mean = cross_validation_score.mean()\n",
    "cross_validation_mean"
   ]
  },
  {
   "cell_type": "markdown",
   "metadata": {},
   "source": [
    "# Ensemble Technique"
   ]
  },
  {
   "cell_type": "code",
   "execution_count": 81,
   "metadata": {},
   "outputs": [
    {
     "name": "stdout",
     "output_type": "stream",
     "text": [
      "{'criterion': 'gini', 'max_depth': 5}\n"
     ]
    }
   ],
   "source": [
    "from sklearn.model_selection import GridSearchCV\n",
    "\n",
    "parameters = {'max_depth':np.arange(2,15),'criterion':[\"gini\",\"entrophy\"]}\n",
    "\n",
    "rf = DecisionTreeClassifier()\n",
    "clf=GridSearchCV(rf,parameters,cv=5)\n",
    "clf.fit(x_train,y_train)\n",
    "print(clf.best_params_)\n",
    "\n"
   ]
  },
  {
   "cell_type": "code",
   "execution_count": 87,
   "metadata": {},
   "outputs": [
    {
     "name": "stdout",
     "output_type": "stream",
     "text": [
      "Accuracy Score: 84.25925925925925\n",
      "Cross Validation Score: 82.14285714285714\n"
     ]
    }
   ],
   "source": [
    "rf=DecisionTreeClassifier(criterion=\"gini\",max_depth=5)\n",
    "rf.fit(x_train,y_train)\n",
    "rf.score(x_train,y_train)\n",
    "pred_decision=rf.predict(x_test)\n",
    "\n",
    "rfs = accuracy_score(y_test,pred_decision)\n",
    "print('Accuracy Score:',rfs*100)\n",
    "\n",
    "rfscore=cross_val_score(rf,x,y,cv=5)\n",
    "rfc=rfscore.mean()\n",
    "\n",
    "print(\"Cross Validation Score:\",rfc*100)\n",
    "\n",
    "#print(clf.best_params_)"
   ]
  },
  {
   "cell_type": "markdown",
   "metadata": {},
   "source": [
    "# Saving Model"
   ]
  },
  {
   "cell_type": "code",
   "execution_count": 88,
   "metadata": {},
   "outputs": [],
   "source": [
    "import pickle\n",
    "filename = \"insurance.pkl\"\n",
    "pickle.dump(rf,open(filename,\"wb\"))\n"
   ]
  },
  {
   "cell_type": "markdown",
   "metadata": {},
   "source": [
    "# Conclusion"
   ]
  },
  {
   "cell_type": "code",
   "execution_count": 89,
   "metadata": {},
   "outputs": [
    {
     "name": "stdout",
     "output_type": "stream",
     "text": [
      "0.8425925925925926\n"
     ]
    }
   ],
   "source": [
    "loaded_model=pickle.load(open('insurance.pkl','rb'))\n",
    "result=loaded_model.score(x_test,y_test)\n",
    "print(result)"
   ]
  },
  {
   "cell_type": "code",
   "execution_count": 90,
   "metadata": {},
   "outputs": [
    {
     "data": {
      "text/html": [
       "<div>\n",
       "<style scoped>\n",
       "    .dataframe tbody tr th:only-of-type {\n",
       "        vertical-align: middle;\n",
       "    }\n",
       "\n",
       "    .dataframe tbody tr th {\n",
       "        vertical-align: top;\n",
       "    }\n",
       "\n",
       "    .dataframe thead th {\n",
       "        text-align: right;\n",
       "    }\n",
       "</style>\n",
       "<table border=\"1\" class=\"dataframe\">\n",
       "  <thead>\n",
       "    <tr style=\"text-align: right;\">\n",
       "      <th></th>\n",
       "      <th>0</th>\n",
       "      <th>1</th>\n",
       "      <th>2</th>\n",
       "      <th>3</th>\n",
       "      <th>4</th>\n",
       "      <th>5</th>\n",
       "      <th>6</th>\n",
       "      <th>7</th>\n",
       "      <th>8</th>\n",
       "      <th>9</th>\n",
       "      <th>...</th>\n",
       "      <th>314</th>\n",
       "      <th>315</th>\n",
       "      <th>316</th>\n",
       "      <th>317</th>\n",
       "      <th>318</th>\n",
       "      <th>319</th>\n",
       "      <th>320</th>\n",
       "      <th>321</th>\n",
       "      <th>322</th>\n",
       "      <th>323</th>\n",
       "    </tr>\n",
       "  </thead>\n",
       "  <tbody>\n",
       "    <tr>\n",
       "      <th>Predicted</th>\n",
       "      <td>0.0</td>\n",
       "      <td>0.0</td>\n",
       "      <td>0.0</td>\n",
       "      <td>1.0</td>\n",
       "      <td>0.0</td>\n",
       "      <td>0.0</td>\n",
       "      <td>1.0</td>\n",
       "      <td>0.0</td>\n",
       "      <td>1.0</td>\n",
       "      <td>0.0</td>\n",
       "      <td>...</td>\n",
       "      <td>0.0</td>\n",
       "      <td>0.0</td>\n",
       "      <td>0.0</td>\n",
       "      <td>0.0</td>\n",
       "      <td>0.0</td>\n",
       "      <td>1.0</td>\n",
       "      <td>0.0</td>\n",
       "      <td>0.0</td>\n",
       "      <td>0.0</td>\n",
       "      <td>0.0</td>\n",
       "    </tr>\n",
       "    <tr>\n",
       "      <th>Original</th>\n",
       "      <td>0.0</td>\n",
       "      <td>0.0</td>\n",
       "      <td>0.0</td>\n",
       "      <td>1.0</td>\n",
       "      <td>0.0</td>\n",
       "      <td>0.0</td>\n",
       "      <td>1.0</td>\n",
       "      <td>0.0</td>\n",
       "      <td>1.0</td>\n",
       "      <td>0.0</td>\n",
       "      <td>...</td>\n",
       "      <td>0.0</td>\n",
       "      <td>0.0</td>\n",
       "      <td>0.0</td>\n",
       "      <td>0.0</td>\n",
       "      <td>0.0</td>\n",
       "      <td>1.0</td>\n",
       "      <td>0.0</td>\n",
       "      <td>0.0</td>\n",
       "      <td>0.0</td>\n",
       "      <td>0.0</td>\n",
       "    </tr>\n",
       "  </tbody>\n",
       "</table>\n",
       "<p>2 rows × 324 columns</p>\n",
       "</div>"
      ],
      "text/plain": [
       "           0    1    2    3    4    5    6    7    8    9    ...  314  315  \\\n",
       "Predicted  0.0  0.0  0.0  1.0  0.0  0.0  1.0  0.0  1.0  0.0  ...  0.0  0.0   \n",
       "Original   0.0  0.0  0.0  1.0  0.0  0.0  1.0  0.0  1.0  0.0  ...  0.0  0.0   \n",
       "\n",
       "           316  317  318  319  320  321  322  323  \n",
       "Predicted  0.0  0.0  0.0  1.0  0.0  0.0  0.0  0.0  \n",
       "Original   0.0  0.0  0.0  1.0  0.0  0.0  0.0  0.0  \n",
       "\n",
       "[2 rows x 324 columns]"
      ]
     },
     "execution_count": 90,
     "metadata": {},
     "output_type": "execute_result"
    }
   ],
   "source": [
    "conclusion = pd.DataFrame([loaded_model.predict(x_test)[:],pred_decision[:]],index=[\"Predicted\",\"Original\"])\n",
    "conclusion"
   ]
  },
  {
   "cell_type": "markdown",
   "metadata": {},
   "source": [
    "### Our model shows 82% accuracy, which predicts the fraud when umbrella_limit was present"
   ]
  },
  {
   "cell_type": "markdown",
   "metadata": {},
   "source": [
    "### Our Model shows 84% accuracy when we dropped umbrealla_limit which had alot skewness and outliers present"
   ]
  },
  {
   "cell_type": "code",
   "execution_count": null,
   "metadata": {},
   "outputs": [],
   "source": []
  }
 ],
 "metadata": {
  "kernelspec": {
   "display_name": "Python 3",
   "language": "python",
   "name": "python3"
  },
  "language_info": {
   "codemirror_mode": {
    "name": "ipython",
    "version": 3
   },
   "file_extension": ".py",
   "mimetype": "text/x-python",
   "name": "python",
   "nbconvert_exporter": "python",
   "pygments_lexer": "ipython3",
   "version": "3.8.5"
  }
 },
 "nbformat": 4,
 "nbformat_minor": 4
}
